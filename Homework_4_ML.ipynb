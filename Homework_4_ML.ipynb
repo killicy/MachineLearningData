{
  "nbformat": 4,
  "nbformat_minor": 0,
  "metadata": {
    "colab": {
      "name": "Homework 4 - ML.ipynb",
      "provenance": [],
      "collapsed_sections": []
    },
    "kernelspec": {
      "name": "python3",
      "display_name": "Python 3"
    }
  },
  "cells": [
    {
      "cell_type": "code",
      "metadata": {
        "id": "8BnF8IRrxoOm"
      },
      "source": [
        "import numpy as np\r\n",
        "import pandas as pd\r\n",
        "from matplotlib import pyplot as plt\r\n",
        "import scipy.spatial.distance as dist\r\n",
        "from copy import deepcopy\r\n",
        "from sklearn.cluster import KMeans\r\n",
        "url = 'https://raw.githubusercontent.com/killicy/MachineLearningData/master/Teams.csv'\r\n",
        "dataSet = pd.read_csv(url, error_bad_lines = False)"
      ],
      "execution_count": 208,
      "outputs": []
    },
    {
      "cell_type": "markdown",
      "metadata": {
        "id": "obudkPbC1Jk5"
      },
      "source": [
        "#Task 1\r\n"
      ]
    },
    {
      "cell_type": "code",
      "metadata": {
        "id": "w29FU5QL1Lku"
      },
      "source": [
        "def manhattanDist(v1,v2):\r\n",
        "  return sum([abs(v1[i]-v2[i]) for i in range(len(v1))])\r\n",
        "\r\n",
        "def euclideanDist(a, b):\r\n",
        "  return np.sqrt(sum((a - b) ** 2))"
      ],
      "execution_count": 209,
      "outputs": []
    },
    {
      "cell_type": "code",
      "metadata": {
        "colab": {
          "base_uri": "https://localhost:8080/",
          "height": 265
        },
        "id": "XG4q2MUOeo1g",
        "outputId": "55fb9746-5bbe-4fba-d5d4-4982e781fdec"
      },
      "source": [
        "centroids = np.array([[4,6], [5, 4]])\r\n",
        "K = 2\r\n",
        "X = dataSet['# wins in Season 2016 (x-axis)']\r\n",
        "Y = dataSet['# wins in Season 2017 (y-axis)']\r\n",
        "Label = dataSet['Team']\r\n",
        "XY = np.array([[3,5],[3,4],[2,8],[2,3],[6,2],[6,4],[7,3],[7,4],[8,5],[7,6]])\r\n",
        "\r\n",
        "n = X.shape[0]\r\n",
        "\r\n",
        "plt.scatter(X, Y)\r\n",
        "plt.scatter(centroids[0], centroids[1])\r\n",
        "plt.show()"
      ],
      "execution_count": 210,
      "outputs": [
        {
          "output_type": "display_data",
          "data": {
            "image/png": "[encoded data removed]",
            "text/plain": [
              "<Figure size 432x288 with 1 Axes>"
            ]
          },
          "metadata": {
            "tags": [],
            "needs_background": "light"
          }
        }
      ]
    },
    {
      "cell_type": "markdown",
      "metadata": {
        "id": "JBC-c6EYGUig"
      },
      "source": [
        "##1\r\n"
      ]
    },
    {
      "cell_type": "code",
      "metadata": {
        "colab": {
          "base_uri": "https://localhost:8080/",
          "height": 297
        },
        "id": "4-yEVAfCGSF6",
        "outputId": "297b064b-30eb-46d2-d220-fd3ba8256d98"
      },
      "source": [
        "#include centroids to calculate manhattan distance\r\n",
        "X1 = np.array([4,3,3,2,2])\r\n",
        "Y1 = np.array([3,4,5,5,8])\r\n",
        "X2 = np.array([6,6,7,7,7,8])\r\n",
        "Y2 = np.array([2,3,4,4,5,6])\r\n",
        "clusterx1 = sum(X1) / len(X1)\r\n",
        "clustery1 = sum(Y1) / len(Y1)\r\n",
        "clusterx2 = sum(X2) / len(X2)\r\n",
        "clustery2 = sum(Y2) / len(Y2)\r\n",
        "\r\n",
        "new_centroid = np.array([[clusterx1, clustery1], [clusterx2, clustery2]])\r\n",
        "print(new_centroid)\r\n",
        "plt.scatter(XY[:,0], XY[:,1])\r\n",
        "plt.scatter(new_centroid[:,0], new_centroid[:,1])\r\n",
        "plt.show()"
      ],
      "execution_count": 211,
      "outputs": [
        {
          "output_type": "stream",
          "text": [
            "[[2.8        5.        ]\n",
            " [6.83333333 4.        ]]\n"
          ],
          "name": "stdout"
        },
        {
          "output_type": "display_data",
          "data": {
            "image/png": "[encoded data removed]",
            "text/plain": [
              "<Figure size 432x288 with 1 Axes>"
            ]
          },
          "metadata": {
            "tags": [],
            "needs_background": "light"
          }
        }
      ]
    },
    {
      "cell_type": "code",
      "metadata": {
        "colab": {
          "base_uri": "https://localhost:8080/",
          "height": 297
        },
        "id": "WsOzpqLr1Z41",
        "outputId": "e06c9fae-7a64-4267-8083-83773f14312b"
      },
      "source": [
        "kmeans = KMeans(n_clusters=2, init = \"k-means++\", max_iter=100, n_init=10, random_state=0)\r\n",
        "pred_y = kmeans.fit_predict(XY)\r\n",
        "print(kmeans.cluster_centers_)\r\n",
        "plt.scatter(XY[:,0], XY[:,1])\r\n",
        "plt.scatter(kmeans.cluster_centers_[:, 0], kmeans.cluster_centers_[:, 1])\r\n",
        "plt.show()"
      ],
      "execution_count": 212,
      "outputs": [
        {
          "output_type": "stream",
          "text": [
            "[[2.5        5.        ]\n",
            " [6.83333333 4.        ]]\n"
          ],
          "name": "stdout"
        },
        {
          "output_type": "display_data",
          "data": {
            "image/png": "[encoded data removed]",
            "text/plain": [
              "<Figure size 432x288 with 1 Axes>"
            ]
          },
          "metadata": {
            "tags": [],
            "needs_background": "light"
          }
        }
      ]
    },
    {
      "cell_type": "markdown",
      "metadata": {
        "id": "Vbc35OQqWPmX"
      },
      "source": [
        "##2"
      ]
    },
    {
      "cell_type": "code",
      "metadata": {
        "colab": {
          "base_uri": "https://localhost:8080/",
          "height": 297
        },
        "id": "NknWiwOuWSFF",
        "outputId": "f0434229-e882-4c05-a7bd-e504284403f8"
      },
      "source": [
        "kmeans = KMeans(n_clusters=2, init = centroids, max_iter=1, n_init=1, random_state=0)\r\n",
        "pred_y = kmeans.fit_predict(XY)\r\n",
        "print(kmeans.cluster_centers_)\r\n",
        "plt.scatter(XY[:,0], XY[:,1])\r\n",
        "plt.scatter(kmeans.cluster_centers_[:, 0], kmeans.cluster_centers_[:, 1])\r\n",
        "plt.show()\r\n"
      ],
      "execution_count": 213,
      "outputs": [
        {
          "output_type": "stream",
          "text": [
            "[[2.5   6.5  ]\n",
            " [5.75  3.875]]\n"
          ],
          "name": "stdout"
        },
        {
          "output_type": "display_data",
          "data": {
            "image/png": "[encoded data removed]",
            "text/plain": [
              "<Figure size 432x288 with 1 Axes>"
            ]
          },
          "metadata": {
            "tags": [],
            "needs_background": "light"
          }
        }
      ]
    },
    {
      "cell_type": "markdown",
      "metadata": {
        "id": "fdNRO1pjgw6L"
      },
      "source": [
        "##3"
      ]
    },
    {
      "cell_type": "code",
      "metadata": {
        "colab": {
          "base_uri": "https://localhost:8080/",
          "height": 265
        },
        "id": "4_JbcbuDY37o",
        "outputId": "4199efb0-3739-4e2f-9ad5-b575dd27ab16"
      },
      "source": [
        "centroids = np.array([[3,3], [8, 3]])\r\n",
        "K = 2\r\n",
        "X = dataSet['# wins in Season 2016 (x-axis)']\r\n",
        "Y = dataSet['# wins in Season 2017 (y-axis)']\r\n",
        "Label = dataSet['Team']\r\n",
        "XY = np.array([[3,5],[3,4],[2,8],[2,3],[6,2],[6,4],[7,3],[7,4],[8,5],[7,6]])\r\n",
        "\r\n",
        "n = X.shape[0]\r\n",
        "\r\n",
        "plt.scatter(X, Y)\r\n",
        "plt.scatter(centroids[0], centroids[1])\r\n",
        "plt.show()"
      ],
      "execution_count": 214,
      "outputs": [
        {
          "output_type": "display_data",
          "data": {
            "image/png": "[encoded data removed]",
            "text/plain": [
              "<Figure size 432x288 with 1 Axes>"
            ]
          },
          "metadata": {
            "tags": [],
            "needs_background": "light"
          }
        }
      ]
    },
    {
      "cell_type": "code",
      "metadata": {
        "colab": {
          "base_uri": "https://localhost:8080/",
          "height": 297
        },
        "id": "dxHd4OKwg3DE",
        "outputId": "c89cc6de-32c1-4346-d8fa-0dd64460fcc1"
      },
      "source": [
        "X1 = np.array([3,3,3,2,2])\r\n",
        "Y1 = np.array([3,3,4,5,8])\r\n",
        "X2 = np.array([3,6,6,7,7,7,8])\r\n",
        "Y2 = np.array([2,3,4,4,5,6,8])\r\n",
        "clusterx1 = sum(X1) / len(X1)\r\n",
        "clustery1 = sum(Y1) / len(Y1)\r\n",
        "clusterx2 = sum(X2) / len(X2)\r\n",
        "clustery2 = sum(Y2) / len(Y2)\r\n",
        "\r\n",
        "new_centroid = np.array([[clusterx1, clustery1], [clusterx2, clustery2]])\r\n",
        "print(new_centroid)\r\n",
        "plt.scatter(XY[:,0], XY[:,1])\r\n",
        "plt.scatter(new_centroid[:,0], new_centroid[:,1])\r\n",
        "plt.show()"
      ],
      "execution_count": 215,
      "outputs": [
        {
          "output_type": "stream",
          "text": [
            "[[2.6        4.6       ]\n",
            " [6.28571429 4.57142857]]\n"
          ],
          "name": "stdout"
        },
        {
          "output_type": "display_data",
          "data": {
            "image/png": "[encoded data removed]",
            "text/plain": [
              "<Figure size 432x288 with 1 Axes>"
            ]
          },
          "metadata": {
            "tags": [],
            "needs_background": "light"
          }
        }
      ]
    },
    {
      "cell_type": "markdown",
      "metadata": {
        "id": "BvL3HLyvh20g"
      },
      "source": [
        "##4"
      ]
    },
    {
      "cell_type": "code",
      "metadata": {
        "colab": {
          "base_uri": "https://localhost:8080/",
          "height": 265
        },
        "id": "dF69pdgfh4Og",
        "outputId": "be582b3f-24c3-4834-e50f-d26f8c152b75"
      },
      "source": [
        "centroids = np.array([[3,2], [4, 8]])\r\n",
        "K = 2\r\n",
        "X = dataSet['# wins in Season 2016 (x-axis)']\r\n",
        "Y = dataSet['# wins in Season 2017 (y-axis)']\r\n",
        "Label = dataSet['Team']\r\n",
        "XY = np.array([[3,5],[3,4],[2,8],[2,3],[6,2],[6,4],[7,3],[7,4],[8,5],[7,6]])\r\n",
        "\r\n",
        "n = X.shape[0]\r\n",
        "\r\n",
        "plt.scatter(X, Y)\r\n",
        "plt.scatter(centroids[0], centroids[1])\r\n",
        "plt.show()"
      ],
      "execution_count": 216,
      "outputs": [
        {
          "output_type": "display_data",
          "data": {
            "image/png": "[encoded data removed]",
            "text/plain": [
              "<Figure size 432x288 with 1 Axes>"
            ]
          },
          "metadata": {
            "tags": [],
            "needs_background": "light"
          }
        }
      ]
    },
    {
      "cell_type": "code",
      "metadata": {
        "colab": {
          "base_uri": "https://localhost:8080/",
          "height": 297
        },
        "id": "TODLMm4iiATT",
        "outputId": "f6e1001e-f543-4d90-99c1-e5974be1d8f1"
      },
      "source": [
        "X1 = np.array([2,3,3,2,2])\r\n",
        "Y1 = np.array([3,4,5,8,8])\r\n",
        "X2 = np.array([6,6,7,7,7,8,3])\r\n",
        "Y2 = np.array([2,3,4,4,5,6,4])\r\n",
        "clusterx1 = sum(X1) / len(X1)\r\n",
        "clustery1 = sum(Y1) / len(Y1)\r\n",
        "clusterx2 = sum(X2) / len(X2)\r\n",
        "clustery2 = sum(Y2) / len(Y2)\r\n",
        "\r\n",
        "new_centroid = np.array([[clusterx1, clustery1], [clusterx2, clustery2]])\r\n",
        "print(new_centroid)\r\n",
        "plt.scatter(XY[:,0], XY[:,1])\r\n",
        "plt.scatter(new_centroid[:,0], new_centroid[:,1])\r\n",
        "plt.show()"
      ],
      "execution_count": 217,
      "outputs": [
        {
          "output_type": "stream",
          "text": [
            "[[2.4        5.6       ]\n",
            " [6.28571429 4.        ]]\n"
          ],
          "name": "stdout"
        },
        {
          "output_type": "display_data",
          "data": {
            "image/png": "[encoded data removed]",
            "text/plain": [
              "<Figure size 432x288 with 1 Axes>"
            ]
          },
          "metadata": {
            "tags": [],
            "needs_background": "light"
          }
        }
      ]
    },
    {
      "cell_type": "markdown",
      "metadata": {
        "id": "4TQH0Vl8ikA4"
      },
      "source": [
        "#Task 2\r\n"
      ]
    },
    {
      "cell_type": "markdown",
      "metadata": {
        "id": "SZ4URGYFuQq2"
      },
      "source": [
        "##Q1. Euclidean is better\r\n",
        "\r\n"
      ]
    },
    {
      "cell_type": "markdown",
      "metadata": {
        "id": "5Q15WUXDzXDE"
      },
      "source": [
        "###Euclidean\r\n"
      ]
    },
    {
      "cell_type": "code",
      "metadata": {
        "id": "teNic3koil6a"
      },
      "source": [
        "url = 'https://raw.githubusercontent.com/killicy/MachineLearningData/master/IRIS.csv'\r\n",
        "dataSet = pd.read_csv(url, error_bad_lines = False)"
      ],
      "execution_count": 218,
      "outputs": []
    },
    {
      "cell_type": "code",
      "metadata": {
        "colab": {
          "base_uri": "https://localhost:8080/"
        },
        "id": "g5o59wFxrIqb",
        "outputId": "0ddb2253-9aab-4981-a0a4-23d73bb2901c"
      },
      "source": [
        "x = dataSet.iloc[:, [0, 1, 2, 3]].values\r\n",
        "kmeans = KMeans(n_clusters = 3, init = 'k-means++', max_iter = 300, n_init = 10, random_state = 0)\r\n",
        "y_kmeans = kmeans.fit_predict(x)\r\n",
        "print(kmeans.cluster_centers_)"
      ],
      "execution_count": 240,
      "outputs": [
        {
          "output_type": "stream",
          "text": [
            "[[6.85       3.07368421 5.74210526 2.07105263]\n",
            " [5.006      3.418      1.464      0.244     ]\n",
            " [5.9016129  2.7483871  4.39354839 1.43387097]]\n"
          ],
          "name": "stdout"
        }
      ]
    },
    {
      "cell_type": "code",
      "metadata": {
        "colab": {
          "base_uri": "https://localhost:8080/",
          "height": 283
        },
        "id": "sbMWF_gPliH5",
        "outputId": "c95200f3-8686-41fc-be2f-cdc7481cffdc"
      },
      "source": [
        "plt.scatter(x[y_kmeans == 0, 0], x[y_kmeans == 0, 1], label = 'Iris-setosa')\r\n",
        "plt.scatter(x[y_kmeans == 1, 0], x[y_kmeans == 1, 1], label = 'Iris-versicolour')\r\n",
        "plt.scatter(x[y_kmeans == 2, 0], x[y_kmeans == 2, 1], label = 'Iris-virginica')\r\n",
        "\r\n",
        "plt.scatter(kmeans.cluster_centers_[:, 0], kmeans.cluster_centers_[:,1], marker=(5, 1), s = 50, c = 'red', label = 'Centroids')\r\n",
        "plt.legend()"
      ],
      "execution_count": 220,
      "outputs": [
        {
          "output_type": "execute_result",
          "data": {
            "text/plain": [
              "<matplotlib.legend.Legend at 0x7f1d13ba8e50>"
            ]
          },
          "metadata": {
            "tags": []
          },
          "execution_count": 220
        },
        {
          "output_type": "display_data",
          "data": {
            "image/png": "[encoded data removed]",
            "text/plain": [
              "<Figure size 432x288 with 1 Axes>"
            ]
          },
          "metadata": {
            "tags": [],
            "needs_background": "light"
          }
        }
      ]
    },
    {
      "cell_type": "code",
      "metadata": {
        "colab": {
          "base_uri": "https://localhost:8080/"
        },
        "id": "qRaDTNamzLv-",
        "outputId": "87d52dfb-0033-4cb2-aa87-2ce300cd4f96"
      },
      "source": [
        "#SSE\r\n",
        "print(kmeans.inertia_)"
      ],
      "execution_count": 221,
      "outputs": [
        {
          "output_type": "stream",
          "text": [
            "78.94084142614602\n"
          ],
          "name": "stdout"
        }
      ]
    },
    {
      "cell_type": "markdown",
      "metadata": {
        "id": "DFuQyhSk0SLV"
      },
      "source": [
        "###Cosine Similarity\r\n"
      ]
    },
    {
      "cell_type": "code",
      "metadata": {
        "colab": {
          "base_uri": "https://localhost:8080/"
        },
        "id": "Ds-rrq-80BY5",
        "outputId": "cff74b68-909d-4ae7-8197-6c1466a24334"
      },
      "source": [
        "length = np.sqrt((x**2).sum(axis=1))[:,None]\r\n",
        "x2 = x / length\r\n",
        "\r\n",
        "kmeans = KMeans(n_clusters = 3, init = 'k-means++', max_iter = 300, n_init = 10, random_state = 0)\r\n",
        "y_kmeans = kmeans.fit_predict(x2)\r\n",
        "print(kmeans.cluster_centers_)"
      ],
      "execution_count": 231,
      "outputs": [
        {
          "output_type": "stream",
          "text": [
            "[[0.80241527 0.54584718 0.2336687  0.03694211]\n",
            " [0.70535582 0.32122384 0.59247857 0.21415628]\n",
            " [0.75347714 0.34860557 0.53142108 0.16279395]]\n"
          ],
          "name": "stdout"
        }
      ]
    },
    {
      "cell_type": "code",
      "metadata": {
        "colab": {
          "base_uri": "https://localhost:8080/",
          "height": 281
        },
        "id": "g81R3npP014f",
        "outputId": "8072579d-c863-487f-8883-0dbc3c8886e9"
      },
      "source": [
        "plt.scatter(x2[y_kmeans == 0, 0], x2[y_kmeans == 0, 1], label = 'Iris-setosa')\r\n",
        "plt.scatter(x2[y_kmeans == 1, 0], x2[y_kmeans == 1, 1], label = 'Iris-versicolour')\r\n",
        "plt.scatter(x2[y_kmeans == 2, 0], x2[y_kmeans == 2, 1], label = 'Iris-virginica')\r\n",
        "\r\n",
        "plt.scatter(kmeans.cluster_centers_[:, 0], kmeans.cluster_centers_[:,1], marker=(5, 1), s = 50, c = 'red', label = 'Centroids')\r\n",
        "plt.legend()"
      ],
      "execution_count": 233,
      "outputs": [
        {
          "output_type": "execute_result",
          "data": {
            "text/plain": [
              "<matplotlib.legend.Legend at 0x7f1d13961850>"
            ]
          },
          "metadata": {
            "tags": []
          },
          "execution_count": 233
        },
        {
          "output_type": "display_data",
          "data": {
            "image/png": "[encoded data removed]",
            "text/plain": [
              "<Figure size 432x288 with 1 Axes>"
            ]
          },
          "metadata": {
            "tags": [],
            "needs_background": "light"
          }
        }
      ]
    },
    {
      "cell_type": "code",
      "metadata": {
        "colab": {
          "base_uri": "https://localhost:8080/"
        },
        "id": "cBoKRZLo2bEe",
        "outputId": "59aeca05-9ce8-475e-ca94-db6de3b049f6"
      },
      "source": [
        "#SSE\r\n",
        "print(kmeans.inertia_)"
      ],
      "execution_count": 234,
      "outputs": [
        {
          "output_type": "stream",
          "text": [
            "0.32507096015682513\n"
          ],
          "name": "stdout"
        }
      ]
    },
    {
      "cell_type": "markdown",
      "metadata": {
        "id": "gtu6IKd44gfA"
      },
      "source": [
        "###Jarcard Similarity"
      ]
    },
    {
      "cell_type": "code",
      "metadata": {
        "colab": {
          "base_uri": "https://localhost:8080/"
        },
        "id": "vJlTz2Fz4nnu",
        "outputId": "cbd7725d-d066-41f6-90c4-6c747ccef87e"
      },
      "source": [
        "min = np.amin(x)\r\n",
        "max = np.amax(x)\r\n",
        "\r\n",
        "length2 = (min / max)\r\n",
        "\r\n",
        "x3 = x - length2\r\n",
        "\r\n",
        "kmeans = KMeans(n_clusters = 3, init = 'k-means++', max_iter = 300, n_init = 10, random_state = 0)\r\n",
        "y_kmeans = kmeans.fit_predict(x3)\r\n",
        "print(kmeans.cluster_centers_)"
      ],
      "execution_count": 241,
      "outputs": [
        {
          "output_type": "stream",
          "text": [
            "[[6.83734177 3.06102598 5.72944704 2.0583944 ]\n",
            " [4.99334177 3.40534177 1.45134177 0.23134177]\n",
            " [5.88895468 2.73572887 4.38089016 1.42121274]]\n"
          ],
          "name": "stdout"
        }
      ]
    },
    {
      "cell_type": "code",
      "metadata": {
        "colab": {
          "base_uri": "https://localhost:8080/",
          "height": 285
        },
        "id": "7UDbwJYC7XV-",
        "outputId": "96152614-4943-4c5a-d365-ae4bc68c6e11"
      },
      "source": [
        "plt.scatter(x3[y_kmeans == 0, 0], x3[y_kmeans == 0, 1], label = 'Iris-setosa')\r\n",
        "plt.scatter(x3[y_kmeans == 1, 0], x3[y_kmeans == 1, 1], label = 'Iris-versicolour')\r\n",
        "plt.scatter(x3[y_kmeans == 2, 0], x3[y_kmeans == 2, 1], label = 'Iris-virginica')\r\n",
        "\r\n",
        "plt.scatter(kmeans.cluster_centers_[:, 0], kmeans.cluster_centers_[:,1], marker=(5, 1), s = 50, c = 'red', label = 'Centroids')\r\n",
        "plt.legend()"
      ],
      "execution_count": 242,
      "outputs": [
        {
          "output_type": "execute_result",
          "data": {
            "text/plain": [
              "<matplotlib.legend.Legend at 0x7f1d13c2cdd0>"
            ]
          },
          "metadata": {
            "tags": []
          },
          "execution_count": 242
        },
        {
          "output_type": "display_data",
          "data": {
            "image/png": "[encoded data removed]",
            "text/plain": [
              "<Figure size 432x288 with 1 Axes>"
            ]
          },
          "metadata": {
            "tags": [],
            "needs_background": "light"
          }
        }
      ]
    },
    {
      "cell_type": "code",
      "metadata": {
        "colab": {
          "base_uri": "https://localhost:8080/"
        },
        "id": "P7Om-fF77mDi",
        "outputId": "fb115212-773a-406f-acc1-d80c65940967"
      },
      "source": [
        "#SSE\r\n",
        "print(kmeans.inertia_)"
      ],
      "execution_count": 243,
      "outputs": [
        {
          "output_type": "stream",
          "text": [
            "78.94084142614601\n"
          ],
          "name": "stdout"
        }
      ]
    },
    {
      "cell_type": "markdown",
      "metadata": {
        "id": "idhcDoJx7rd_"
      },
      "source": [
        "##Q2. Euclidean Metric is Better\r\n"
      ]
    },
    {
      "cell_type": "markdown",
      "metadata": {
        "id": "Cf5KnIbM70GK"
      },
      "source": [
        "##Q3. Jaccard takes more time and iterations"
      ]
    },
    {
      "cell_type": "markdown",
      "metadata": {
        "id": "OBdwGw2i8Auc"
      },
      "source": [
        "##Q4. Jaccard takes more time and iterations\r\n"
      ]
    },
    {
      "cell_type": "markdown",
      "metadata": {
        "id": "dsWbyRvvv_3E"
      },
      "source": [
        "#Task 3"
      ]
    },
    {
      "cell_type": "markdown",
      "metadata": {
        "id": "36-xfBZIwSpP"
      },
      "source": [
        "##A"
      ]
    },
    {
      "cell_type": "code",
      "metadata": {
        "colab": {
          "base_uri": "https://localhost:8080/"
        },
        "id": "yKtz7vSPwCNQ",
        "outputId": "80169f80-c7dd-498e-9011-0d22738434e2"
      },
      "source": [
        "a = np.array([4.6,2.9])\r\n",
        "b = np.array([[6.7,3.1]])\r\n",
        "dist = np.linalg.norm(a - b)\r\n",
        "print(\"%.4f\" % dist)"
      ],
      "execution_count": 228,
      "outputs": [
        {
          "output_type": "stream",
          "text": [
            "2.1095\n"
          ],
          "name": "stdout"
        }
      ]
    },
    {
      "cell_type": "markdown",
      "metadata": {
        "id": "m-kLNkryxDIh"
      },
      "source": [
        "##B\r\n"
      ]
    },
    {
      "cell_type": "code",
      "metadata": {
        "colab": {
          "base_uri": "https://localhost:8080/"
        },
        "id": "iaAKsSVlxEZf",
        "outputId": "1320f5e9-25bd-423e-ad6a-fbc3659deba4"
      },
      "source": [
        "a = np.array([5.0,3.0])\r\n",
        "b = np.array([[6.0,3.0]])\r\n",
        "dist = np.linalg.norm(a - b)\r\n",
        "print(\"%.4f\" % dist)"
      ],
      "execution_count": 229,
      "outputs": [
        {
          "output_type": "stream",
          "text": [
            "1.0000\n"
          ],
          "name": "stdout"
        }
      ]
    },
    {
      "cell_type": "markdown",
      "metadata": {
        "id": "z9V0ArSLxnUa"
      },
      "source": [
        "##C\r\n"
      ]
    },
    {
      "cell_type": "code",
      "metadata": {
        "colab": {
          "base_uri": "https://localhost:8080/"
        },
        "id": "alOCp0lAxock",
        "outputId": "08c6e5f9-c776-4625-a460-d77d4feec2f5"
      },
      "source": [
        "a = np.array([[4.7,3.2], [4.9,3.1],[5.0,3.0], [4.6,2.9]])\r\n",
        "b = np.array([[5.9,3.2],[6.7,3.1],[6.0,3.0],[6.2,2.8]])\r\n",
        "dist = np.linalg.norm(a - b)\r\n",
        "print(\"%.4f\" % dist)"
      ],
      "execution_count": 230,
      "outputs": [
        {
          "output_type": "stream",
          "text": [
            "2.8723\n"
          ],
          "name": "stdout"
        }
      ]
    },
    {
      "cell_type": "markdown",
      "metadata": {
        "id": "_jOgGW5AyOom"
      },
      "source": [
        "##D. Distance A is more robust to noise"
      ]
    }
  ]
}