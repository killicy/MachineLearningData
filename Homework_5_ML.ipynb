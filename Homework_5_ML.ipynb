{
  "nbformat": 4,
  "nbformat_minor": 0,
  "metadata": {
    "colab": {
      "name": "Homework 5 - ML.ipynb",
      "provenance": []
    },
    "kernelspec": {
      "name": "python3",
      "display_name": "Python 3"
    },
    "language_info": {
      "name": "python"
    }
  },
  "cells": [
    {
      "cell_type": "code",
      "metadata": {
        "id": "-EUFPbkR8Olb"
      },
      "source": [
        "import pandas as pd\n",
        "import numpy as np"
      ],
      "execution_count": 1,
      "outputs": []
    },
    {
      "cell_type": "code",
      "metadata": {
        "colab": {
          "base_uri": "https://localhost:8080/"
        },
        "id": "gPhSDbkP6r5U",
        "outputId": "2f37b116-c953-48da-f806-623b8a0603d5"
      },
      "source": [
        "url = 'https://raw.githubusercontent.com/killicy/MachineLearningData/master/ratings_small.csv'\n",
        "df = pd.read_csv(url, error_bad_lines=False)\n",
        "print(df)"
      ],
      "execution_count": 6,
      "outputs": [
        {
          "output_type": "stream",
          "text": [
            "        userId  movieId  rating   timestamp\n",
            "0            1       31     2.5  1260759144\n",
            "1            1     1029     3.0  1260759179\n",
            "2            1     1061     3.0  1260759182\n",
            "3            1     1129     2.0  1260759185\n",
            "4            1     1172     4.0  1260759205\n",
            "...        ...      ...     ...         ...\n",
            "99999      671     6268     2.5  1065579370\n",
            "100000     671     6269     4.0  1065149201\n",
            "100001     671     6365     4.0  1070940363\n",
            "100002     671     6385     2.5  1070979663\n",
            "100003     671     6565     3.5  1074784724\n",
            "\n",
            "[100004 rows x 4 columns]\n"
          ],
          "name": "stdout"
        }
      ]
    },
    {
      "cell_type": "code",
      "metadata": {
        "colab": {
          "base_uri": "https://localhost:8080/"
        },
        "id": "A-gTrbEr8Z_I",
        "outputId": "8bf21074-f921-40cb-ddac-c2881ba50c34"
      },
      "source": [
        "pip install scikit-surprise"
      ],
      "execution_count": 2,
      "outputs": [
        {
          "output_type": "stream",
          "text": [
            "Requirement already satisfied: scikit-surprise in /usr/local/lib/python3.7/dist-packages (1.1.1)\n",
            "Requirement already satisfied: joblib>=0.11 in /usr/local/lib/python3.7/dist-packages (from scikit-surprise) (1.0.1)\n",
            "Requirement already satisfied: numpy>=1.11.2 in /usr/local/lib/python3.7/dist-packages (from scikit-surprise) (1.19.5)\n",
            "Requirement already satisfied: six>=1.10.0 in /usr/local/lib/python3.7/dist-packages (from scikit-surprise) (1.15.0)\n",
            "Requirement already satisfied: scipy>=1.0.0 in /usr/local/lib/python3.7/dist-packages (from scikit-surprise) (1.4.1)\n"
          ],
          "name": "stdout"
        }
      ]
    },
    {
      "cell_type": "code",
      "metadata": {
        "id": "LrTx4Pa89vXF"
      },
      "source": [
        "from surprise import Reader, Dataset, SVD, KNNBasic,  KNNWithMeans\n",
        "from surprise.model_selection.validation import cross_validate\n",
        "reader = Reader()\n",
        "data = Dataset.load_from_df(df[['userId', 'movieId', 'rating']], reader)\n",
        "# when biased = false, same as PMF\n",
        "svd = SVD(biased = False)\n",
        "knnb = KNNBasic(user_based = True)\n",
        "knnm = KNNWithMeans(user_based = False)"
      ],
      "execution_count": 8,
      "outputs": []
    },
    {
      "cell_type": "code",
      "metadata": {
        "colab": {
          "base_uri": "https://localhost:8080/"
        },
        "id": "FqLz-Rwn-Y5a",
        "outputId": "1dfc4950-4dd8-4e0e-b795-5ccfc6bfea0f"
      },
      "source": [
        "cross_validate(svd, data, measures=['RMSE', 'MAE'], cv=5, verbose=True)"
      ],
      "execution_count": 9,
      "outputs": [
        {
          "output_type": "stream",
          "text": [
            "Evaluating RMSE, MAE of algorithm SVD on 5 split(s).\n",
            "\n",
            "                  Fold 1  Fold 2  Fold 3  Fold 4  Fold 5  Mean    Std     \n",
            "RMSE (testset)    1.0038  1.0072  1.0071  1.0097  1.0058  1.0067  0.0019  \n",
            "MAE (testset)     0.7735  0.7767  0.7762  0.7801  0.7768  0.7767  0.0021  \n",
            "Fit time          5.12    5.09    5.07    5.04    5.10    5.08    0.03    \n",
            "Test time         0.26    0.17    0.17    0.25    0.27    0.22    0.04    \n"
          ],
          "name": "stdout"
        },
        {
          "output_type": "execute_result",
          "data": {
            "text/plain": [
              "{'fit_time': (5.12014365196228,\n",
              "  5.0921852588653564,\n",
              "  5.068666219711304,\n",
              "  5.04004693031311,\n",
              "  5.096326112747192),\n",
              " 'test_mae': array([0.77350571, 0.7767312 , 0.77619354, 0.78006033, 0.77683312]),\n",
              " 'test_rmse': array([1.00378304, 1.00721809, 1.00711742, 1.00965773, 1.00578069]),\n",
              " 'test_time': (0.25832319259643555,\n",
              "  0.16692709922790527,\n",
              "  0.17210721969604492,\n",
              "  0.24536967277526855,\n",
              "  0.2698404788970947)}"
            ]
          },
          "metadata": {
            "tags": []
          },
          "execution_count": 9
        }
      ]
    },
    {
      "cell_type": "code",
      "metadata": {
        "colab": {
          "base_uri": "https://localhost:8080/"
        },
        "id": "OBfhZO0zBjy_",
        "outputId": "9e2a6a5b-b7af-4d5f-b12b-98977d04d8cc"
      },
      "source": [
        "cross_validate(knnb, data, measures=['RMSE', 'MAE'], cv=5, verbose=True)"
      ],
      "execution_count": 10,
      "outputs": [
        {
          "output_type": "stream",
          "text": [
            "Computing the msd similarity matrix...\n",
            "Done computing similarity matrix.\n",
            "Computing the msd similarity matrix...\n",
            "Done computing similarity matrix.\n",
            "Computing the msd similarity matrix...\n",
            "Done computing similarity matrix.\n",
            "Computing the msd similarity matrix...\n",
            "Done computing similarity matrix.\n",
            "Computing the msd similarity matrix...\n",
            "Done computing similarity matrix.\n",
            "Evaluating RMSE, MAE of algorithm KNNBasic on 5 split(s).\n",
            "\n",
            "                  Fold 1  Fold 2  Fold 3  Fold 4  Fold 5  Mean    Std     \n",
            "RMSE (testset)    0.9709  0.9547  0.9596  0.9745  0.9731  0.9666  0.0079  \n",
            "MAE (testset)     0.7458  0.7363  0.7375  0.7499  0.7481  0.7435  0.0056  \n",
            "Fit time          0.17    0.18    0.17    0.16    0.18    0.17    0.01    \n",
            "Test time         2.24    2.23    2.25    2.31    2.39    2.28    0.06    \n"
          ],
          "name": "stdout"
        },
        {
          "output_type": "execute_result",
          "data": {
            "text/plain": [
              "{'fit_time': (0.16581082344055176,\n",
              "  0.17983126640319824,\n",
              "  0.17293787002563477,\n",
              "  0.1620190143585205,\n",
              "  0.18013453483581543),\n",
              " 'test_mae': array([0.74575173, 0.73625632, 0.73749433, 0.74993481, 0.74805647]),\n",
              " 'test_rmse': array([0.97086047, 0.95472958, 0.9596006 , 0.97446493, 0.97311558]),\n",
              " 'test_time': (2.235577344894409,\n",
              "  2.2323215007781982,\n",
              "  2.246978521347046,\n",
              "  2.307610034942627,\n",
              "  2.3894834518432617)}"
            ]
          },
          "metadata": {
            "tags": []
          },
          "execution_count": 10
        }
      ]
    },
    {
      "cell_type": "code",
      "metadata": {
        "colab": {
          "base_uri": "https://localhost:8080/"
        },
        "id": "IoliC-C7FYLD",
        "outputId": "94573353-b882-40a4-89cb-3e67eed39365"
      },
      "source": [
        "cross_validate(knnm, data, measures=['RMSE', 'MAE'], cv=5, verbose=True)"
      ],
      "execution_count": 11,
      "outputs": [
        {
          "output_type": "stream",
          "text": [
            "Computing the msd similarity matrix...\n",
            "Done computing similarity matrix.\n",
            "Computing the msd similarity matrix...\n",
            "Done computing similarity matrix.\n",
            "Computing the msd similarity matrix...\n",
            "Done computing similarity matrix.\n",
            "Computing the msd similarity matrix...\n",
            "Done computing similarity matrix.\n",
            "Computing the msd similarity matrix...\n",
            "Done computing similarity matrix.\n",
            "Evaluating RMSE, MAE of algorithm KNNWithMeans on 5 split(s).\n",
            "\n",
            "                  Fold 1  Fold 2  Fold 3  Fold 4  Fold 5  Mean    Std     \n",
            "RMSE (testset)    0.9129  0.9257  0.9177  0.9234  0.9145  0.9188  0.0049  \n",
            "MAE (testset)     0.7018  0.7067  0.7008  0.7062  0.7019  0.7035  0.0025  \n",
            "Fit time          0.18    0.22    0.22    0.21    0.22    0.21    0.02    \n",
            "Test time         2.51    2.56    2.55    2.41    2.46    2.50    0.05    \n"
          ],
          "name": "stdout"
        },
        {
          "output_type": "execute_result",
          "data": {
            "text/plain": [
              "{'fit_time': (0.18109798431396484,\n",
              "  0.21970796585083008,\n",
              "  0.22171854972839355,\n",
              "  0.21145391464233398,\n",
              "  0.22108888626098633),\n",
              " 'test_mae': array([0.70176958, 0.7066907 , 0.70076507, 0.706215  , 0.70191655]),\n",
              " 'test_rmse': array([0.91294229, 0.92565798, 0.91768805, 0.92335911, 0.91454854]),\n",
              " 'test_time': (2.513503313064575,\n",
              "  2.557600975036621,\n",
              "  2.5477523803710938,\n",
              "  2.412091016769409,\n",
              "  2.46118426322937)}"
            ]
          },
          "metadata": {
            "tags": []
          },
          "execution_count": 11
        }
      ]
    },
    {
      "cell_type": "code",
      "metadata": {
        "id": "DsNEcneXHHsu"
      },
      "source": [
        "knnb_cos = KNNBasic(name= 'cosine', user_based = True)\n",
        "knnm_cos = KNNWithMeans(name= 'cosine', user_based = False)"
      ],
      "execution_count": 14,
      "outputs": []
    },
    {
      "cell_type": "code",
      "metadata": {
        "colab": {
          "base_uri": "https://localhost:8080/"
        },
        "id": "vj1_wouEHZM4",
        "outputId": "643fb4de-9672-484e-ca34-7092bc35f0bc"
      },
      "source": [
        "cross_validate(knnb_cos, data, measures=['RMSE', 'MAE'], cv=5, verbose=True)"
      ],
      "execution_count": 15,
      "outputs": [
        {
          "output_type": "stream",
          "text": [
            "Computing the msd similarity matrix...\n",
            "Done computing similarity matrix.\n",
            "Computing the msd similarity matrix...\n",
            "Done computing similarity matrix.\n",
            "Computing the msd similarity matrix...\n",
            "Done computing similarity matrix.\n",
            "Computing the msd similarity matrix...\n",
            "Done computing similarity matrix.\n",
            "Computing the msd similarity matrix...\n",
            "Done computing similarity matrix.\n",
            "Evaluating RMSE, MAE of algorithm KNNBasic on 5 split(s).\n",
            "\n",
            "                  Fold 1  Fold 2  Fold 3  Fold 4  Fold 5  Mean    Std     \n",
            "RMSE (testset)    0.9610  0.9601  0.9671  0.9850  0.9642  0.9675  0.0091  \n",
            "MAE (testset)     0.7394  0.7384  0.7448  0.7554  0.7425  0.7441  0.0061  \n",
            "Fit time          0.13    0.19    0.18    0.18    0.17    0.17    0.02    \n",
            "Test time         2.32    2.36    2.27    2.27    2.35    2.31    0.04    \n"
          ],
          "name": "stdout"
        },
        {
          "output_type": "execute_result",
          "data": {
            "text/plain": [
              "{'fit_time': (0.13478493690490723,\n",
              "  0.19176483154296875,\n",
              "  0.17904400825500488,\n",
              "  0.17890214920043945,\n",
              "  0.17380952835083008),\n",
              " 'test_mae': array([0.73944768, 0.73838254, 0.74484913, 0.75536807, 0.74246925]),\n",
              " 'test_rmse': array([0.9610227 , 0.96008735, 0.96710626, 0.9850324 , 0.96424183]),\n",
              " 'test_time': (2.316366195678711,\n",
              "  2.360602617263794,\n",
              "  2.270911693572998,\n",
              "  2.2717318534851074,\n",
              "  2.354646921157837)}"
            ]
          },
          "metadata": {
            "tags": []
          },
          "execution_count": 15
        }
      ]
    },
    {
      "cell_type": "code",
      "metadata": {
        "colab": {
          "base_uri": "https://localhost:8080/"
        },
        "id": "rperfh5wHcci",
        "outputId": "db299898-d0a9-416a-87a3-9b0fcaa517d0"
      },
      "source": [
        "cross_validate(knnm_cos, data, measures=['RMSE', 'MAE'], cv=5, verbose=True)\n"
      ],
      "execution_count": 16,
      "outputs": [
        {
          "output_type": "stream",
          "text": [
            "Computing the msd similarity matrix...\n",
            "Done computing similarity matrix.\n",
            "Computing the msd similarity matrix...\n",
            "Done computing similarity matrix.\n",
            "Computing the msd similarity matrix...\n",
            "Done computing similarity matrix.\n",
            "Computing the msd similarity matrix...\n",
            "Done computing similarity matrix.\n",
            "Computing the msd similarity matrix...\n",
            "Done computing similarity matrix.\n",
            "Evaluating RMSE, MAE of algorithm KNNWithMeans on 5 split(s).\n",
            "\n",
            "                  Fold 1  Fold 2  Fold 3  Fold 4  Fold 5  Mean    Std     \n",
            "RMSE (testset)    0.9155  0.9084  0.9293  0.9257  0.9141  0.9186  0.0077  \n",
            "MAE (testset)     0.6988  0.6955  0.7100  0.7102  0.7006  0.7030  0.0060  \n",
            "Fit time          0.19    0.22    0.23    0.22    0.25    0.22    0.02    \n",
            "Test time         2.48    2.44    2.59    2.45    2.44    2.48    0.06    \n"
          ],
          "name": "stdout"
        },
        {
          "output_type": "execute_result",
          "data": {
            "text/plain": [
              "{'fit_time': (0.19116806983947754,\n",
              "  0.21914076805114746,\n",
              "  0.23079395294189453,\n",
              "  0.2162764072418213,\n",
              "  0.2534005641937256),\n",
              " 'test_mae': array([0.6988204 , 0.69545135, 0.71000908, 0.71018455, 0.70055667]),\n",
              " 'test_rmse': array([0.9154518 , 0.90840718, 0.92933666, 0.92574349, 0.91414294]),\n",
              " 'test_time': (2.484452724456787,\n",
              "  2.4388203620910645,\n",
              "  2.5946319103240967,\n",
              "  2.445873975753784,\n",
              "  2.4396798610687256)}"
            ]
          },
          "metadata": {
            "tags": []
          },
          "execution_count": 16
        }
      ]
    },
    {
      "cell_type": "code",
      "metadata": {
        "id": "DN0h4HDKHx9f"
      },
      "source": [
        "knnb_msd = KNNBasic(name= 'msd', user_based = True)\n",
        "knnm_msd = KNNWithMeans(name= 'msd', user_based = False)"
      ],
      "execution_count": 17,
      "outputs": []
    },
    {
      "cell_type": "code",
      "metadata": {
        "colab": {
          "base_uri": "https://localhost:8080/"
        },
        "id": "W6piewADH6Is",
        "outputId": "2435761a-80d8-48d1-a14f-cdf871236cc5"
      },
      "source": [
        "cross_validate(knnb_msd, data, measures=['RMSE', 'MAE'], cv=5, verbose=True)"
      ],
      "execution_count": 18,
      "outputs": [
        {
          "output_type": "stream",
          "text": [
            "Computing the msd similarity matrix...\n",
            "Done computing similarity matrix.\n",
            "Computing the msd similarity matrix...\n",
            "Done computing similarity matrix.\n",
            "Computing the msd similarity matrix...\n",
            "Done computing similarity matrix.\n",
            "Computing the msd similarity matrix...\n",
            "Done computing similarity matrix.\n",
            "Computing the msd similarity matrix...\n",
            "Done computing similarity matrix.\n",
            "Evaluating RMSE, MAE of algorithm KNNBasic on 5 split(s).\n",
            "\n",
            "                  Fold 1  Fold 2  Fold 3  Fold 4  Fold 5  Mean    Std     \n",
            "RMSE (testset)    0.9618  0.9696  0.9753  0.9619  0.9666  0.9670  0.0051  \n",
            "MAE (testset)     0.7410  0.7434  0.7481  0.7406  0.7432  0.7433  0.0027  \n",
            "Fit time          0.15    0.17    0.17    0.18    0.17    0.17    0.01    \n",
            "Test time         2.44    2.19    2.34    2.20    2.35    2.31    0.10    \n"
          ],
          "name": "stdout"
        },
        {
          "output_type": "execute_result",
          "data": {
            "text/plain": [
              "{'fit_time': (0.148451566696167,\n",
              "  0.17227673530578613,\n",
              "  0.16709589958190918,\n",
              "  0.17664742469787598,\n",
              "  0.17104554176330566),\n",
              " 'test_mae': array([0.74099465, 0.74340462, 0.74811884, 0.74059355, 0.74321676]),\n",
              " 'test_rmse': array([0.96183626, 0.96959795, 0.97533166, 0.96186393, 0.96656878]),\n",
              " 'test_time': (2.442859172821045,\n",
              "  2.1908490657806396,\n",
              "  2.339151620864868,\n",
              "  2.2025465965270996,\n",
              "  2.352609395980835)}"
            ]
          },
          "metadata": {
            "tags": []
          },
          "execution_count": 18
        }
      ]
    },
    {
      "cell_type": "code",
      "metadata": {
        "colab": {
          "base_uri": "https://localhost:8080/"
        },
        "id": "Q5UC3NUiH8xb",
        "outputId": "b0ad241a-675f-435c-bf71-377639e9866a"
      },
      "source": [
        "cross_validate(knnm_msd, data, measures=['RMSE', 'MAE'], cv=5, verbose=True)"
      ],
      "execution_count": 19,
      "outputs": [
        {
          "output_type": "stream",
          "text": [
            "Computing the msd similarity matrix...\n",
            "Done computing similarity matrix.\n",
            "Computing the msd similarity matrix...\n",
            "Done computing similarity matrix.\n",
            "Computing the msd similarity matrix...\n",
            "Done computing similarity matrix.\n",
            "Computing the msd similarity matrix...\n",
            "Done computing similarity matrix.\n",
            "Computing the msd similarity matrix...\n",
            "Done computing similarity matrix.\n",
            "Evaluating RMSE, MAE of algorithm KNNWithMeans on 5 split(s).\n",
            "\n",
            "                  Fold 1  Fold 2  Fold 3  Fold 4  Fold 5  Mean    Std     \n",
            "RMSE (testset)    0.9257  0.9151  0.9296  0.9058  0.9124  0.9177  0.0087  \n",
            "MAE (testset)     0.7088  0.7016  0.7089  0.6934  0.7003  0.7026  0.0058  \n",
            "Fit time          0.22    0.22    0.20    0.22    0.22    0.22    0.01    \n",
            "Test time         2.61    2.43    2.59    2.42    2.62    2.53    0.09    \n"
          ],
          "name": "stdout"
        },
        {
          "output_type": "execute_result",
          "data": {
            "text/plain": [
              "{'fit_time': (0.21624183654785156,\n",
              "  0.21809029579162598,\n",
              "  0.20084404945373535,\n",
              "  0.21846532821655273,\n",
              "  0.22245478630065918),\n",
              " 'test_mae': array([0.70883125, 0.70155135, 0.70890134, 0.6934002 , 0.70034708]),\n",
              " 'test_rmse': array([0.92570377, 0.91513915, 0.92958655, 0.90584538, 0.91243521]),\n",
              " 'test_time': (2.6134564876556396,\n",
              "  2.4284865856170654,\n",
              "  2.585522174835205,\n",
              "  2.415921688079834,\n",
              "  2.624403715133667)}"
            ]
          },
          "metadata": {
            "tags": []
          },
          "execution_count": 19
        }
      ]
    },
    {
      "cell_type": "code",
      "metadata": {
        "id": "VPeqkrcqIHVi"
      },
      "source": [
        "knnb_p = KNNBasic(name= 'pearson', user_based = True)\n",
        "knnm_p = KNNWithMeans(name= 'pearson', user_based = False)"
      ],
      "execution_count": 20,
      "outputs": []
    },
    {
      "cell_type": "code",
      "metadata": {
        "colab": {
          "base_uri": "https://localhost:8080/"
        },
        "id": "Eq7XA55wIOou",
        "outputId": "0932ec5b-240a-42fc-8e92-3a9c9e2a07bb"
      },
      "source": [
        "cross_validate(knnb_p, data, measures=['RMSE', 'MAE'], cv=5, verbose=True)"
      ],
      "execution_count": 21,
      "outputs": [
        {
          "output_type": "stream",
          "text": [
            "Computing the msd similarity matrix...\n",
            "Done computing similarity matrix.\n",
            "Computing the msd similarity matrix...\n",
            "Done computing similarity matrix.\n",
            "Computing the msd similarity matrix...\n",
            "Done computing similarity matrix.\n",
            "Computing the msd similarity matrix...\n",
            "Done computing similarity matrix.\n",
            "Computing the msd similarity matrix...\n",
            "Done computing similarity matrix.\n",
            "Evaluating RMSE, MAE of algorithm KNNBasic on 5 split(s).\n",
            "\n",
            "                  Fold 1  Fold 2  Fold 3  Fold 4  Fold 5  Mean    Std     \n",
            "RMSE (testset)    0.9700  0.9719  0.9655  0.9682  0.9633  0.9678  0.0031  \n",
            "MAE (testset)     0.7448  0.7440  0.7437  0.7447  0.7417  0.7438  0.0011  \n",
            "Fit time          0.16    0.17    0.17    0.17    0.18    0.17    0.01    \n",
            "Test time         2.25    2.42    2.21    2.21    2.44    2.31    0.10    \n"
          ],
          "name": "stdout"
        },
        {
          "output_type": "execute_result",
          "data": {
            "text/plain": [
              "{'fit_time': (0.15742969512939453,\n",
              "  0.17282462120056152,\n",
              "  0.1672959327697754,\n",
              "  0.1686840057373047,\n",
              "  0.17922210693359375),\n",
              " 'test_mae': array([0.74479917, 0.74399889, 0.74371485, 0.74472081, 0.74166987]),\n",
              " 'test_rmse': array([0.96998178, 0.9718705 , 0.96553551, 0.96817679, 0.96333271]),\n",
              " 'test_time': (2.251992702484131,\n",
              "  2.415436029434204,\n",
              "  2.20568585395813,\n",
              "  2.211435079574585,\n",
              "  2.4444117546081543)}"
            ]
          },
          "metadata": {
            "tags": []
          },
          "execution_count": 21
        }
      ]
    },
    {
      "cell_type": "code",
      "metadata": {
        "colab": {
          "base_uri": "https://localhost:8080/"
        },
        "id": "PWWNXsrhIR8V",
        "outputId": "34ffecf5-aaf4-4b99-e5e0-31912815c0b5"
      },
      "source": [
        "cross_validate(knnm_p, data, measures=['RMSE', 'MAE'], cv=5, verbose=True)"
      ],
      "execution_count": 22,
      "outputs": [
        {
          "output_type": "stream",
          "text": [
            "Computing the msd similarity matrix...\n",
            "Done computing similarity matrix.\n",
            "Computing the msd similarity matrix...\n",
            "Done computing similarity matrix.\n",
            "Computing the msd similarity matrix...\n",
            "Done computing similarity matrix.\n",
            "Computing the msd similarity matrix...\n",
            "Done computing similarity matrix.\n",
            "Computing the msd similarity matrix...\n",
            "Done computing similarity matrix.\n",
            "Evaluating RMSE, MAE of algorithm KNNWithMeans on 5 split(s).\n",
            "\n",
            "                  Fold 1  Fold 2  Fold 3  Fold 4  Fold 5  Mean    Std     \n",
            "RMSE (testset)    0.9297  0.9167  0.9208  0.9227  0.9136  0.9207  0.0055  \n",
            "MAE (testset)     0.7105  0.7022  0.7043  0.7052  0.6994  0.7043  0.0037  \n",
            "Fit time          0.18    0.22    0.22    0.21    0.23    0.21    0.02    \n",
            "Test time         2.50    2.67    2.46    2.46    2.46    2.51    0.08    \n"
          ],
          "name": "stdout"
        },
        {
          "output_type": "execute_result",
          "data": {
            "text/plain": [
              "{'fit_time': (0.18074512481689453,\n",
              "  0.21505427360534668,\n",
              "  0.21880340576171875,\n",
              "  0.21152663230895996,\n",
              "  0.22841954231262207),\n",
              " 'test_mae': array([0.71048085, 0.70217273, 0.70434047, 0.70524943, 0.69939907]),\n",
              " 'test_rmse': array([0.92971919, 0.91667433, 0.92083316, 0.92266811, 0.91358084]),\n",
              " 'test_time': (2.4974353313446045,\n",
              "  2.6683688163757324,\n",
              "  2.4572229385375977,\n",
              "  2.4551424980163574,\n",
              "  2.4590015411376953)}"
            ]
          },
          "metadata": {
            "tags": []
          },
          "execution_count": 22
        }
      ]
    },
    {
      "cell_type": "code",
      "metadata": {
        "colab": {
          "base_uri": "https://localhost:8080/",
          "height": 281
        },
        "id": "WX4uqHhCIcRK",
        "outputId": "116ca1d5-8bcc-406f-e14b-ea09816f22da"
      },
      "source": [
        "import matplotlib.pyplot as plt\n",
        "\n",
        "#mae\n",
        "user_cos = [0.73944768, 0.73838254, 0.74484913, 0.75536807, 0.74246925]\n",
        "item_cos = [0.6988204 , 0.69545135, 0.71000908, 0.71018455, 0.70055667]\n",
        "\n",
        "user_msb = [0.74099465, 0.74340462, 0.74811884, 0.74059355, 0.74321676]\n",
        "item_msb = [0.70883125, 0.70155135, 0.70890134, 0.6934002 , 0.70034708]\n",
        "\n",
        "user_p = [0.74479917, 0.74399889, 0.74371485, 0.74472081, 0.74166987]\n",
        "item_p = [0.71048085, 0.70217273, 0.70434047, 0.70524943, 0.69939907]\n",
        "\n",
        "x2 = [1.2, 2.2, 3.2, 4.2, 5.2]\n",
        "x3 = [1.4, 2.4, 3.4, 4.4, 5.4]\n",
        "x4 = [1.6, 2.6, 3.6, 4.6, 5.6]\n",
        "\n",
        "ax = plt.subplot(111)\n",
        "ax.bar(x, item_cos, width=0.2, label='cos', align='center')\n",
        "#ax.bar(x2, user_cos, width=0.2, color='b', label='user cos', align='center')\n",
        "ax.bar(x2, item_msb, width=0.2 , label='msb', align='center')\n",
        "ax.bar(x3, item_p, width=0.2, label='pearson', align='center')\n",
        "plt.ylim(.6)\n",
        "plt.title('Item MAES')\n",
        "plt.legend()\n",
        "plt.show()"
      ],
      "execution_count": 85,
      "outputs": [
        {
          "output_type": "display_data",
          "data": {
            "image/png": "[encoded data removed]",
            "text/plain": [
              "<Figure size 432x288 with 1 Axes>"
            ]
          },
          "metadata": {
            "tags": [],
            "needs_background": "light"
          }
        }
      ]
    },
    {
      "cell_type": "code",
      "metadata": {
        "colab": {
          "base_uri": "https://localhost:8080/",
          "height": 281
        },
        "id": "sPzVLmtPSJFH",
        "outputId": "eb8856b5-4c6f-428d-c9db-72a2a7ceb199"
      },
      "source": [
        "ax = plt.subplot(111)\n",
        "ax.bar(x, user_cos, width=0.2, label='cos', align='center')\n",
        "#ax.bar(x2, user_cos, width=0.2, color='b', label='user cos', align='center')\n",
        "ax.bar(x2, user_msb, width=0.2 , label='msb', align='center')\n",
        "ax.bar(x3, user_p, width=0.2, label='pearson', align='center')\n",
        "plt.title('User MAES')\n",
        "plt.ylim(.6)\n",
        "plt.legend()\n",
        "plt.show()"
      ],
      "execution_count": 86,
      "outputs": [
        {
          "output_type": "display_data",
          "data": {
            "image/png": "[encoded data removed]",
            "text/plain": [
              "<Figure size 432x288 with 1 Axes>"
            ]
          },
          "metadata": {
            "tags": [],
            "needs_background": "light"
          }
        }
      ]
    },
    {
      "cell_type": "code",
      "metadata": {
        "colab": {
          "base_uri": "https://localhost:8080/",
          "height": 281
        },
        "id": "kX4BihTCTLps",
        "outputId": "3ade159f-2870-4e10-81d0-24824e940c17"
      },
      "source": [
        "#rmse\n",
        "user_cos_r = [0.9610227 , 0.96008735, 0.96710626, 0.9850324 , 0.96424183]\n",
        "item_cos_r = [0.9154518 , 0.90840718, 0.92933666, 0.92574349, 0.91414294]\n",
        "\n",
        "user_msb_r = [0.96183626, 0.96959795, 0.97533166, 0.96186393, 0.96656878]\n",
        "item_msb_r = [0.92570377, 0.91513915, 0.92958655, 0.90584538, 0.91243521]\n",
        "\n",
        "user_p_r = [0.96998178, 0.9718705 , 0.96553551, 0.96817679, 0.96333271]\n",
        "item_p_r = [0.92971919, 0.91667433, 0.92083316, 0.92266811, 0.91358084]\n",
        "\n",
        "ax = plt.subplot(111)\n",
        "ax.bar(x, item_cos_r, width=0.2, label='cos', align='center')\n",
        "#ax.bar(x2, user_cos, width=0.2, color='b', label='user cos', align='center')\n",
        "ax.bar(x2, item_msb_r, width=0.2 , label='msb', align='center')\n",
        "ax.bar(x3, item_p_r, width=0.2, label='pearson', align='center')\n",
        "plt.ylim(.8)\n",
        "plt.title('Item RMSE')\n",
        "plt.legend()\n",
        "plt.show()"
      ],
      "execution_count": 92,
      "outputs": [
        {
          "output_type": "display_data",
          "data": {
            "image/png": "[encoded data removed]",
            "text/plain": [
              "<Figure size 432x288 with 1 Axes>"
            ]
          },
          "metadata": {
            "tags": [],
            "needs_background": "light"
          }
        }
      ]
    },
    {
      "cell_type": "code",
      "metadata": {
        "colab": {
          "base_uri": "https://localhost:8080/",
          "height": 281
        },
        "id": "Wtz3Y2KHUKgS",
        "outputId": "bc93aa04-0180-442a-9c92-dc24297e2b70"
      },
      "source": [
        "ax = plt.subplot(111)\n",
        "ax.bar(x, user_cos_r, width=0.2, label='cos', align='center')\n",
        "#ax.bar(x2, user_cos, width=0.2, color='b', label='user cos', align='center')\n",
        "ax.bar(x2, user_msb_r, width=0.2 , label='msb', align='center')\n",
        "ax.bar(x3, user_p_r, width=0.2, label='pearson', align='center')\n",
        "plt.ylim(.8)\n",
        "plt.title('User RMSE')\n",
        "plt.legend()\n",
        "plt.show()"
      ],
      "execution_count": 91,
      "outputs": [
        {
          "output_type": "display_data",
          "data": {
            "image/png": "[encoded data removed]",
            "text/plain": [
              "<Figure size 432x288 with 1 Axes>"
            ]
          },
          "metadata": {
            "tags": [],
            "needs_background": "light"
          }
        }
      ]
    },
    {
      "cell_type": "code",
      "metadata": {
        "id": "23rx5DHKVZj6"
      },
      "source": [
        "knnb_k_1 = KNNBasic(k = 1, user_based = True)\n",
        "knnm_k_1 = KNNWithMeans(k = 1, user_based = False)\n",
        "knnb_k_5 = KNNBasic(k = 5, user_based = True)\n",
        "knnm_k_5 = KNNWithMeans(k = 5, user_based = False)\n",
        "knnb_k_10 = KNNBasic(k = 10, user_based = True)\n",
        "knnm_k_10 = KNNWithMeans(k = 10, user_based = False)\n",
        "knnb_k_20 = KNNBasic(k = 20, user_based = True)\n",
        "knnm_k_20 = KNNWithMeans(k = 20, user_based = False)\n",
        "knnb_k_40 = KNNBasic(k = 40,user_based = True)\n",
        "knnm_k_40 = KNNWithMeans(k = 40, user_based = False)\n",
        "knnb_k_80 = KNNBasic(k = 80, user_based = True)\n",
        "knnm_k_80 = KNNWithMeans(k = 80, user_based = False)\n",
        "knnb_k_100 = KNNBasic(k = 100, user_based = True)\n",
        "knnm_k_100 = KNNWithMeans(k = 100, user_based = False)"
      ],
      "execution_count": 94,
      "outputs": []
    },
    {
      "cell_type": "code",
      "metadata": {
        "colab": {
          "base_uri": "https://localhost:8080/"
        },
        "id": "qx8CperEXI6p",
        "outputId": "7c93eaff-3ca8-404e-d313-027418ebbe4c"
      },
      "source": [
        "utest_1 = cross_validate(knnb_k_1, data, measures=['RMSE', 'MAE'], cv=5)\n",
        "itest_1 = cross_validate(knnm_k_1, data, measures=['RMSE', 'MAE'], cv=5)\n",
        "utest_5 = cross_validate(knnb_k_5, data, measures=['RMSE', 'MAE'], cv=5)\n",
        "itest_5 = cross_validate(knnm_k_5, data, measures=['RMSE', 'MAE'], cv=5)\n",
        "utest_10 = cross_validate(knnb_k_10, data, measures=['RMSE', 'MAE'], cv=5)\n",
        "itest_10 = cross_validate(knnm_k_10, data, measures=['RMSE', 'MAE'], cv=5)\n",
        "utest_20 = cross_validate(knnb_k_20, data, measures=['RMSE', 'MAE'], cv=5)\n",
        "itest_20 = cross_validate(knnm_k_20, data, measures=['RMSE', 'MAE'], cv=5)\n",
        "utest_40 = cross_validate(knnb_k_40, data, measures=['RMSE', 'MAE'], cv=5)\n",
        "itest_40 = cross_validate(knnm_k_40, data, measures=['RMSE', 'MAE'], cv=5)\n",
        "utest_80 = cross_validate(knnb_k_80, data, measures=['RMSE', 'MAE'], cv=5)\n",
        "itest_80 = cross_validate(knnm_k_80, data, measures=['RMSE', 'MAE'], cv=5)\n",
        "utest_100 = cross_validate(knnb_k_100, data, measures=['RMSE', 'MAE'], cv=5)\n",
        "itest_100 = cross_validate(knnm_k_100, data, measures=['RMSE', 'MAE'], cv=5)\n"
      ],
      "execution_count": 102,
      "outputs": [
        {
          "output_type": "stream",
          "text": [
            "Computing the msd similarity matrix...\n",
            "Done computing similarity matrix.\n",
            "Computing the msd similarity matrix...\n",
            "Done computing similarity matrix.\n",
            "Computing the msd similarity matrix...\n",
            "Done computing similarity matrix.\n",
            "Computing the msd similarity matrix...\n",
            "Done computing similarity matrix.\n",
            "Computing the msd similarity matrix...\n",
            "Done computing similarity matrix.\n",
            "Computing the msd similarity matrix...\n",
            "Done computing similarity matrix.\n",
            "Computing the msd similarity matrix...\n",
            "Done computing similarity matrix.\n",
            "Computing the msd similarity matrix...\n",
            "Done computing similarity matrix.\n",
            "Computing the msd similarity matrix...\n",
            "Done computing similarity matrix.\n",
            "Computing the msd similarity matrix...\n",
            "Done computing similarity matrix.\n",
            "Computing the msd similarity matrix...\n",
            "Done computing similarity matrix.\n",
            "Computing the msd similarity matrix...\n",
            "Done computing similarity matrix.\n",
            "Computing the msd similarity matrix...\n",
            "Done computing similarity matrix.\n",
            "Computing the msd similarity matrix...\n",
            "Done computing similarity matrix.\n",
            "Computing the msd similarity matrix...\n",
            "Done computing similarity matrix.\n",
            "Computing the msd similarity matrix...\n",
            "Done computing similarity matrix.\n",
            "Computing the msd similarity matrix...\n",
            "Done computing similarity matrix.\n",
            "Computing the msd similarity matrix...\n",
            "Done computing similarity matrix.\n",
            "Computing the msd similarity matrix...\n",
            "Done computing similarity matrix.\n",
            "Computing the msd similarity matrix...\n",
            "Done computing similarity matrix.\n",
            "Computing the msd similarity matrix...\n",
            "Done computing similarity matrix.\n",
            "Computing the msd similarity matrix...\n",
            "Done computing similarity matrix.\n",
            "Computing the msd similarity matrix...\n",
            "Done computing similarity matrix.\n",
            "Computing the msd similarity matrix...\n",
            "Done computing similarity matrix.\n",
            "Computing the msd similarity matrix...\n",
            "Done computing similarity matrix.\n",
            "Computing the msd similarity matrix...\n",
            "Done computing similarity matrix.\n",
            "Computing the msd similarity matrix...\n",
            "Done computing similarity matrix.\n",
            "Computing the msd similarity matrix...\n",
            "Done computing similarity matrix.\n",
            "Computing the msd similarity matrix...\n",
            "Done computing similarity matrix.\n",
            "Computing the msd similarity matrix...\n",
            "Done computing similarity matrix.\n",
            "Computing the msd similarity matrix...\n",
            "Done computing similarity matrix.\n",
            "Computing the msd similarity matrix...\n",
            "Done computing similarity matrix.\n",
            "Computing the msd similarity matrix...\n",
            "Done computing similarity matrix.\n",
            "Computing the msd similarity matrix...\n",
            "Done computing similarity matrix.\n",
            "Computing the msd similarity matrix...\n",
            "Done computing similarity matrix.\n",
            "Computing the msd similarity matrix...\n",
            "Done computing similarity matrix.\n",
            "Computing the msd similarity matrix...\n",
            "Done computing similarity matrix.\n",
            "Computing the msd similarity matrix...\n",
            "Done computing similarity matrix.\n",
            "Computing the msd similarity matrix...\n",
            "Done computing similarity matrix.\n",
            "Computing the msd similarity matrix...\n",
            "Done computing similarity matrix.\n",
            "Computing the msd similarity matrix...\n",
            "Done computing similarity matrix.\n",
            "Computing the msd similarity matrix...\n",
            "Done computing similarity matrix.\n",
            "Computing the msd similarity matrix...\n",
            "Done computing similarity matrix.\n",
            "Computing the msd similarity matrix...\n",
            "Done computing similarity matrix.\n",
            "Computing the msd similarity matrix...\n",
            "Done computing similarity matrix.\n",
            "Computing the msd similarity matrix...\n",
            "Done computing similarity matrix.\n",
            "Computing the msd similarity matrix...\n",
            "Done computing similarity matrix.\n",
            "Computing the msd similarity matrix...\n",
            "Done computing similarity matrix.\n",
            "Computing the msd similarity matrix...\n",
            "Done computing similarity matrix.\n",
            "Computing the msd similarity matrix...\n",
            "Done computing similarity matrix.\n",
            "Computing the msd similarity matrix...\n",
            "Done computing similarity matrix.\n",
            "Computing the msd similarity matrix...\n",
            "Done computing similarity matrix.\n",
            "Computing the msd similarity matrix...\n",
            "Done computing similarity matrix.\n",
            "Computing the msd similarity matrix...\n",
            "Done computing similarity matrix.\n",
            "Computing the msd similarity matrix...\n",
            "Done computing similarity matrix.\n",
            "Computing the msd similarity matrix...\n",
            "Done computing similarity matrix.\n",
            "Computing the msd similarity matrix...\n",
            "Done computing similarity matrix.\n",
            "Computing the msd similarity matrix...\n",
            "Done computing similarity matrix.\n",
            "Computing the msd similarity matrix...\n",
            "Done computing similarity matrix.\n",
            "Computing the msd similarity matrix...\n",
            "Done computing similarity matrix.\n",
            "Computing the msd similarity matrix...\n",
            "Done computing similarity matrix.\n",
            "Computing the msd similarity matrix...\n",
            "Done computing similarity matrix.\n",
            "Computing the msd similarity matrix...\n",
            "Done computing similarity matrix.\n",
            "Computing the msd similarity matrix...\n",
            "Done computing similarity matrix.\n",
            "Computing the msd similarity matrix...\n",
            "Done computing similarity matrix.\n",
            "Computing the msd similarity matrix...\n",
            "Done computing similarity matrix.\n",
            "Computing the msd similarity matrix...\n",
            "Done computing similarity matrix.\n",
            "Computing the msd similarity matrix...\n",
            "Done computing similarity matrix.\n",
            "Computing the msd similarity matrix...\n",
            "Done computing similarity matrix.\n",
            "Computing the msd similarity matrix...\n",
            "Done computing similarity matrix.\n"
          ],
          "name": "stdout"
        }
      ]
    },
    {
      "cell_type": "code",
      "metadata": {
        "colab": {
          "base_uri": "https://localhost:8080/"
        },
        "id": "qvDjzrTLYBl2",
        "outputId": "349c373c-9178-4d13-b31d-2539aeb6b1ce"
      },
      "source": [
        "print(utest_1)\n",
        "print(utest_5)\n",
        "print(utest_10)\n",
        "print(utest_20)\n",
        "print(utest_40)\n",
        "print(utest_80)\n",
        "print(utest_100)"
      ],
      "execution_count": 113,
      "outputs": [
        {
          "output_type": "stream",
          "text": [
            "{'test_rmse': array([1.21019109, 1.19513739, 1.20947479, 1.206929  , 1.21004681]), 'test_mae': array([0.90428397, 0.8922232 , 0.90538288, 0.89944779, 0.903235  ]), 'fit_time': (0.17832565307617188, 0.1870718002319336, 0.168595552444458, 0.1683335304260254, 0.1796112060546875), 'test_time': (1.221724271774292, 1.194214105606079, 1.179882526397705, 1.4585163593292236, 1.1873364448547363)}\n",
            "{'test_rmse': array([0.99254166, 0.98934098, 0.98037298, 0.98849569, 0.98822635]), 'test_mae': array([0.7610221 , 0.75653968, 0.74875177, 0.75463937, 0.75657597]), 'fit_time': (0.1599116325378418, 0.17387771606445312, 0.1601405143737793, 0.18390607833862305, 0.15816068649291992), 'test_time': (1.473675012588501, 1.5156748294830322, 1.4700465202331543, 1.7722036838531494, 1.5036587715148926)}\n",
            "{'test_rmse': array([0.96447833, 0.9687774 , 0.9679319 , 0.96310571, 0.96592154]), 'test_mae': array([0.73624393, 0.74300621, 0.74103606, 0.73764502, 0.73985069]), 'fit_time': (0.13851451873779297, 0.1865851879119873, 0.17255806922912598, 0.17899823188781738, 0.1752324104309082), 'test_time': (1.6943325996398926, 1.6665127277374268, 1.655477523803711, 1.7349600791931152, 1.6866304874420166)}\n",
            "{'test_rmse': array([0.96761348, 0.9630693 , 0.96050176, 0.96178081, 0.96563708]), 'test_mae': array([0.74279008, 0.73933491, 0.73636473, 0.73462208, 0.74110853]), 'fit_time': (0.15385937690734863, 0.18351459503173828, 0.17158031463623047, 0.19504141807556152, 0.16550755500793457), 'test_time': (2.2915005683898926, 1.8957581520080566, 1.957214117050171, 2.2724716663360596, 1.9391283988952637)}\n",
            "{'test_rmse': array([0.96730319, 0.97487525, 0.97040063, 0.96559652, 0.96552942]), 'test_mae': array([0.74386169, 0.75083041, 0.74614055, 0.74282621, 0.74250454]), 'fit_time': (0.13851380348205566, 0.19008398056030273, 0.17049312591552734, 0.16667604446411133, 0.18058156967163086), 'test_time': (2.22044038772583, 2.19709849357605, 2.2065412998199463, 2.2147645950317383, 2.250744342803955)}\n",
            "{'test_rmse': array([0.98270289, 0.97215723, 0.96852365, 0.97867491, 0.97138665]), 'test_mae': array([0.75873304, 0.74896639, 0.75055378, 0.75264925, 0.74719091]), 'fit_time': (0.14096283912658691, 0.1881420612335205, 0.1690676212310791, 0.16169190406799316, 0.174149751663208), 'test_time': (2.483304262161255, 2.464378595352173, 2.9213333129882812, 2.4761388301849365, 2.4837911128997803)}\n",
            "{'test_rmse': array([0.98011833, 0.97136382, 0.970147  , 0.98127785, 0.97751876]), 'test_mae': array([0.75798687, 0.75026784, 0.74477453, 0.75824505, 0.75164635]), 'fit_time': (0.1543748378753662, 0.2003178596496582, 0.17877793312072754, 0.16061925888061523, 0.1759023666381836), 'test_time': (2.469187021255493, 2.4847636222839355, 2.9423956871032715, 2.5148110389709473, 2.4823567867279053)}\n"
          ],
          "name": "stdout"
        }
      ]
    },
    {
      "cell_type": "code",
      "metadata": {
        "colab": {
          "base_uri": "https://localhost:8080/"
        },
        "id": "MypmUaL8cpkU",
        "outputId": "1cf10e59-98ac-40b9-e7d1-16c978b173c5"
      },
      "source": [
        "print(itest_1)\n",
        "print(itest_5)\n",
        "print(itest_10)\n",
        "print(itest_20)\n",
        "print(itest_40)\n",
        "print(itest_80)\n",
        "print(itest_100)"
      ],
      "execution_count": 114,
      "outputs": [
        {
          "output_type": "stream",
          "text": [
            "{'test_rmse': array([1.14704646, 1.15172768, 1.15319944, 1.15028173, 1.1534111 ]), 'test_mae': array([0.88434999, 0.88981834, 0.88813203, 0.88669138, 0.88674842]), 'fit_time': (0.20834875106811523, 0.22248554229736328, 0.20397329330444336, 0.2094736099243164, 0.22320055961608887), 'test_time': (1.2236602306365967, 1.2085161209106445, 1.2027297019958496, 1.5081391334533691, 1.2362401485443115)}\n",
            "{'test_rmse': array([0.95871941, 0.96041131, 0.95529442, 0.95304636, 0.95484   ]), 'test_mae': array([0.73997885, 0.73874691, 0.73862584, 0.7341036 , 0.73742353]), 'fit_time': (0.19689202308654785, 0.21710443496704102, 0.21297383308410645, 0.2196812629699707, 0.20304131507873535), 'test_time': (1.5686981678009033, 1.867501974105835, 1.5445444583892822, 1.5388379096984863, 1.8711154460906982)}\n",
            "{'test_rmse': array([0.93427423, 0.91955809, 0.93001437, 0.9431429 , 0.92942136]), 'test_mae': array([0.71591177, 0.70790863, 0.71552568, 0.72429677, 0.71646679]), 'fit_time': (0.17920470237731934, 0.2241969108581543, 0.1896822452545166, 0.21854114532470703, 0.22025656700134277), 'test_time': (1.7363741397857666, 1.737548828125, 2.098611354827881, 1.7524359226226807, 1.7311720848083496)}\n",
            "{'test_rmse': array([0.92812987, 0.91416661, 0.91993214, 0.92306906, 0.92518603]), 'test_mae': array([0.71306453, 0.7012903 , 0.70826947, 0.70523857, 0.7061246 ]), 'fit_time': (0.1744537353515625, 0.21494150161743164, 0.21943330764770508, 0.2092275619506836, 0.2257249355316162), 'test_time': (2.0590925216674805, 2.067683219909668, 2.093043804168701, 2.060851812362671, 2.0499095916748047)}\n",
            "{'test_rmse': array([0.92253555, 0.92297329, 0.91331533, 0.91621333, 0.91689885]), 'test_mae': array([0.70484113, 0.70677305, 0.69839581, 0.70262162, 0.70175961]), 'fit_time': (0.182051420211792, 0.2026665210723877, 0.22573280334472656, 0.207139253616333, 0.21813559532165527), 'test_time': (2.446538209915161, 2.422990322113037, 2.4226419925689697, 2.477905511856079, 2.4265551567077637)}\n",
            "{'test_rmse': array([0.91800056, 0.91488206, 0.92585588, 0.91577417, 0.92706797]), 'test_mae': array([0.70205199, 0.69967928, 0.70949445, 0.70024336, 0.70642069]), 'fit_time': (0.18828058242797852, 0.21570348739624023, 0.23486852645874023, 0.2081766128540039, 0.24783587455749512), 'test_time': (3.213057518005371, 2.8005340099334717, 2.771305799484253, 2.7467916011810303, 2.7355868816375732)}\n",
            "{'test_rmse': array([0.9197773 , 0.92306749, 0.917699  , 0.91951776, 0.92068505]), 'test_mae': array([0.70628748, 0.70608143, 0.70130017, 0.70295109, 0.70418469]), 'fit_time': (0.1881859302520752, 0.21778225898742676, 0.22419357299804688, 0.2406322956085205, 0.2255420684814453), 'test_time': (2.807997465133667, 2.8410961627960205, 2.8009870052337646, 2.8760321140289307, 3.3478386402130127)}\n"
          ],
          "name": "stdout"
        }
      ]
    },
    {
      "cell_type": "code",
      "metadata": {
        "colab": {
          "base_uri": "https://localhost:8080/",
          "height": 281
        },
        "id": "CbM57ZrvatXn",
        "outputId": "f1fba52a-786d-4779-901a-15d370af36fd"
      },
      "source": [
        "plt.plot([0.99254166, 0.98934098, 0.98037298, 0.98849569, 0.98822635], label=\"k=5\")\n",
        "plt.plot([0.96447833, 0.9687774 , 0.9679319 , 0.96310571, 0.96592154], label=\"k=10\")\n",
        "plt.plot([0.96761348, 0.9630693 , 0.96050176, 0.96178081, 0.96563708], label=\"k=20\")\n",
        "plt.plot([0.96730319, 0.97487525, 0.97040063, 0.96559652, 0.96552942], label=\"k=40\")\n",
        "plt.plot([0.98270289, 0.97215723, 0.96852365, 0.97867491, 0.97138665], label=\"k=80\")\n",
        "plt.plot([0.98011833, 0.97136382, 0.970147  , 0.98127785, 0.97751876], label=\"k=100\")\n",
        "plt.title('User RMSE')\n",
        "plt.legend()\n",
        "plt.show()"
      ],
      "execution_count": 111,
      "outputs": [
        {
          "output_type": "display_data",
          "data": {
            "image/png": "[encoded data removed]",
            "text/plain": [
              "<Figure size 432x288 with 1 Axes>"
            ]
          },
          "metadata": {
            "tags": [],
            "needs_background": "light"
          }
        }
      ]
    },
    {
      "cell_type": "code",
      "metadata": {
        "colab": {
          "base_uri": "https://localhost:8080/",
          "height": 281
        },
        "id": "vCv52wTGcl8I",
        "outputId": "6b3d1d6f-b8b6-42e2-973e-9436c80120ac"
      },
      "source": [
        "plt.plot([0.95871941, 0.96041131, 0.95529442, 0.95304636, 0.95484   ], label=\"k=5\")\n",
        "plt.plot([0.93427423, 0.91955809, 0.93001437, 0.9431429 , 0.92942136], label=\"k=10\")\n",
        "plt.plot([0.92812987, 0.91416661, 0.91993214, 0.92306906, 0.92518603], label=\"k=20\")\n",
        "plt.plot([0.92253555, 0.92297329, 0.91331533, 0.91621333, 0.91689885], label=\"k=40\")\n",
        "plt.plot([0.91800056, 0.91488206, 0.92585588, 0.91577417, 0.92706797], label=\"k=80\")\n",
        "plt.plot([0.9197773 , 0.92306749, 0.917699  , 0.91951776, 0.92068505], label=\"k=100\")\n",
        "plt.title('Item RMSE')\n",
        "plt.legend()\n",
        "plt.show()"
      ],
      "execution_count": 115,
      "outputs": [
        {
          "output_type": "display_data",
          "data": {
            "image/png": "[encoded data removed]",
            "text/plain": [
              "<Figure size 432x288 with 1 Axes>"
            ]
          },
          "metadata": {
            "tags": [],
            "needs_background": "light"
          }
        }
      ]
    },
    {
      "cell_type": "code",
      "metadata": {
        "id": "Xrs6yw1Adfj-"
      },
      "source": [
        "plt.plot([0.95871941, 0.96041131, 0.95529442, 0.95304636, 0.95484   ], label=\"k=5\")\n",
        "plt.plot([0.93427423, 0.91955809, 0.93001437, 0.9431429 , 0.92942136], label=\"k=10\")\n",
        "plt.plot([0.92812987, 0.91416661, 0.91993214, 0.92306906, 0.92518603], label=\"k=20\")\n",
        "plt.plot([0.92253555, 0.92297329, 0.91331533, 0.91621333, 0.91689885], label=\"k=40\")\n",
        "plt.plot([0.91800056, 0.91488206, 0.92585588, 0.91577417, 0.92706797], label=\"k=80\")\n",
        "plt.plot([0.9197773 , 0.92306749, 0.917699  , 0.91951776, 0.92068505], label=\"k=100\")\n",
        "plt.title('Item RMSE')\n",
        "plt.legend()\n",
        "plt.show()"
      ],
      "execution_count": null,
      "outputs": []
    },
    {
      "cell_type": "code",
      "metadata": {
        "colab": {
          "base_uri": "https://localhost:8080/"
        },
        "id": "spsaOiPnebAS",
        "outputId": "f89e4366-96c7-4e03-d917-fd07ad43b17a"
      },
      "source": [
        "for i in range(15, 30):\n",
        "  temp = KNNBasic(k = i, user_based = True)\n",
        "  error = cross_validate(temp, data, measures=['RMSE'], cv=5)\n",
        "  print(\"%s : %s\" % (i, error))\n"
      ],
      "execution_count": 119,
      "outputs": [
        {
          "output_type": "stream",
          "text": [
            "Computing the msd similarity matrix...\n",
            "Done computing similarity matrix.\n",
            "Computing the msd similarity matrix...\n",
            "Done computing similarity matrix.\n",
            "Computing the msd similarity matrix...\n",
            "Done computing similarity matrix.\n",
            "Computing the msd similarity matrix...\n",
            "Done computing similarity matrix.\n",
            "Computing the msd similarity matrix...\n",
            "Done computing similarity matrix.\n",
            "15 : {'test_rmse': array([0.95919415, 0.960789  , 0.96724573, 0.96114278, 0.96093241]), 'fit_time': (0.16266608238220215, 0.1863565444946289, 0.16880249977111816, 0.16897296905517578, 0.1844325065612793), 'test_time': (1.89090895652771, 1.833317756652832, 2.381690502166748, 1.7981014251708984, 1.8404262065887451)}\n",
            "Computing the msd similarity matrix...\n",
            "Done computing similarity matrix.\n",
            "Computing the msd similarity matrix...\n",
            "Done computing similarity matrix.\n",
            "Computing the msd similarity matrix...\n",
            "Done computing similarity matrix.\n",
            "Computing the msd similarity matrix...\n",
            "Done computing similarity matrix.\n",
            "Computing the msd similarity matrix...\n",
            "Done computing similarity matrix.\n",
            "16 : {'test_rmse': array([0.96298472, 0.96555728, 0.96497521, 0.96346397, 0.95584012]), 'fit_time': (0.15559625625610352, 0.18598151206970215, 0.21021556854248047, 0.1718430519104004, 0.17417526245117188), 'test_time': (1.8317899703979492, 2.3341288566589355, 1.871349811553955, 1.8777704238891602, 1.8471941947937012)}\n",
            "Computing the msd similarity matrix...\n",
            "Done computing similarity matrix.\n",
            "Computing the msd similarity matrix...\n",
            "Done computing similarity matrix.\n",
            "Computing the msd similarity matrix...\n",
            "Done computing similarity matrix.\n",
            "Computing the msd similarity matrix...\n",
            "Done computing similarity matrix.\n",
            "Computing the msd similarity matrix...\n",
            "Done computing similarity matrix.\n",
            "17 : {'test_rmse': array([0.96096854, 0.96833773, 0.96067138, 0.95986492, 0.96182626]), 'fit_time': (0.15784049034118652, 0.17257452011108398, 0.1598217487335205, 0.18733572959899902, 0.17810511589050293), 'test_time': (1.8979806900024414, 1.8749651908874512, 1.8747076988220215, 2.4055984020233154, 1.9008746147155762)}\n",
            "Computing the msd similarity matrix...\n",
            "Done computing similarity matrix.\n",
            "Computing the msd similarity matrix...\n",
            "Done computing similarity matrix.\n",
            "Computing the msd similarity matrix...\n",
            "Done computing similarity matrix.\n",
            "Computing the msd similarity matrix...\n",
            "Done computing similarity matrix.\n",
            "Computing the msd similarity matrix...\n",
            "Done computing similarity matrix.\n",
            "18 : {'test_rmse': array([0.9655226 , 0.9579992 , 0.96122886, 0.95628745, 0.96569451]), 'fit_time': (0.15478968620300293, 0.17412567138671875, 0.1718275547027588, 0.16896796226501465, 0.17754745483398438), 'test_time': (1.901825189590454, 1.918440580368042, 2.4218358993530273, 1.8654577732086182, 1.9238636493682861)}\n",
            "Computing the msd similarity matrix...\n",
            "Done computing similarity matrix.\n",
            "Computing the msd similarity matrix...\n",
            "Done computing similarity matrix.\n",
            "Computing the msd similarity matrix...\n",
            "Done computing similarity matrix.\n",
            "Computing the msd similarity matrix...\n",
            "Done computing similarity matrix.\n",
            "Computing the msd similarity matrix...\n",
            "Done computing similarity matrix.\n",
            "19 : {'test_rmse': array([0.96247161, 0.95589569, 0.95967838, 0.95362739, 0.97033133]), 'fit_time': (0.1490471363067627, 0.18917250633239746, 0.17804980278015137, 0.1680469512939453, 0.17208170890808105), 'test_time': (1.9100162982940674, 2.419767379760742, 1.8968360424041748, 1.9352927207946777, 1.968102216720581)}\n",
            "Computing the msd similarity matrix...\n",
            "Done computing similarity matrix.\n",
            "Computing the msd similarity matrix...\n",
            "Done computing similarity matrix.\n",
            "Computing the msd similarity matrix...\n",
            "Done computing similarity matrix.\n",
            "Computing the msd similarity matrix...\n",
            "Done computing similarity matrix.\n",
            "Computing the msd similarity matrix...\n",
            "Done computing similarity matrix.\n",
            "20 : {'test_rmse': array([0.95791906, 0.96298918, 0.95996529, 0.96124636, 0.96517412]), 'fit_time': (0.1558678150177002, 0.19237542152404785, 0.15920758247375488, 0.17666411399841309, 0.17891240119934082), 'test_time': (2.426644802093506, 1.9567396640777588, 1.9786303043365479, 1.9435429573059082, 1.94865083694458)}\n",
            "Computing the msd similarity matrix...\n",
            "Done computing similarity matrix.\n",
            "Computing the msd similarity matrix...\n",
            "Done computing similarity matrix.\n",
            "Computing the msd similarity matrix...\n",
            "Done computing similarity matrix.\n",
            "Computing the msd similarity matrix...\n",
            "Done computing similarity matrix.\n",
            "Computing the msd similarity matrix...\n",
            "Done computing similarity matrix.\n",
            "21 : {'test_rmse': array([0.95918208, 0.96928433, 0.96924702, 0.96043962, 0.9619225 ]), 'fit_time': (0.14356446266174316, 0.16945695877075195, 0.17208385467529297, 0.1795203685760498, 0.1739799976348877), 'test_time': (1.9799344539642334, 1.9954454898834229, 1.9624443054199219, 1.9913735389709473, 1.9471111297607422)}\n",
            "Computing the msd similarity matrix...\n",
            "Done computing similarity matrix.\n",
            "Computing the msd similarity matrix...\n",
            "Done computing similarity matrix.\n",
            "Computing the msd similarity matrix...\n",
            "Done computing similarity matrix.\n",
            "Computing the msd similarity matrix...\n",
            "Done computing similarity matrix.\n",
            "Computing the msd similarity matrix...\n",
            "Done computing similarity matrix.\n",
            "22 : {'test_rmse': array([0.96569693, 0.96862665, 0.95772875, 0.95702339, 0.96976209]), 'fit_time': (0.1598978042602539, 0.16112995147705078, 0.1893937587738037, 0.18380427360534668, 0.1819617748260498), 'test_time': (1.9878339767456055, 2.467290163040161, 1.9678966999053955, 1.9663357734680176, 1.982645034790039)}\n",
            "Computing the msd similarity matrix...\n",
            "Done computing similarity matrix.\n",
            "Computing the msd similarity matrix...\n",
            "Done computing similarity matrix.\n",
            "Computing the msd similarity matrix...\n",
            "Done computing similarity matrix.\n",
            "Computing the msd similarity matrix...\n",
            "Done computing similarity matrix.\n",
            "Computing the msd similarity matrix...\n",
            "Done computing similarity matrix.\n",
            "23 : {'test_rmse': array([0.96713981, 0.96951062, 0.95757386, 0.96361753, 0.9666637 ]), 'fit_time': (0.13857078552246094, 0.18507623672485352, 0.18619728088378906, 0.17618799209594727, 0.17832374572753906), 'test_time': (2.502638101577759, 1.9980080127716064, 1.9897019863128662, 2.025942802429199, 2.478722333908081)}\n",
            "Computing the msd similarity matrix...\n",
            "Done computing similarity matrix.\n",
            "Computing the msd similarity matrix...\n",
            "Done computing similarity matrix.\n",
            "Computing the msd similarity matrix...\n",
            "Done computing similarity matrix.\n",
            "Computing the msd similarity matrix...\n",
            "Done computing similarity matrix.\n",
            "Computing the msd similarity matrix...\n",
            "Done computing similarity matrix.\n",
            "24 : {'test_rmse': array([0.95907461, 0.96577335, 0.97274038, 0.96468205, 0.9577985 ]), 'fit_time': (0.14837121963500977, 0.19018268585205078, 0.1878190040588379, 0.178239107131958, 0.18316912651062012), 'test_time': (2.024115800857544, 2.0398459434509277, 2.0412256717681885, 2.5461151599884033, 2.0512330532073975)}\n",
            "Computing the msd similarity matrix...\n",
            "Done computing similarity matrix.\n",
            "Computing the msd similarity matrix...\n",
            "Done computing similarity matrix.\n",
            "Computing the msd similarity matrix...\n",
            "Done computing similarity matrix.\n",
            "Computing the msd similarity matrix...\n",
            "Done computing similarity matrix.\n",
            "Computing the msd similarity matrix...\n",
            "Done computing similarity matrix.\n",
            "25 : {'test_rmse': array([0.96488313, 0.95966762, 0.96549391, 0.96134636, 0.96889128]), 'fit_time': (0.1703944206237793, 0.17703890800476074, 0.15830755233764648, 0.1854846477508545, 0.17420649528503418), 'test_time': (2.019106149673462, 2.055647134780884, 2.031277656555176, 2.0235705375671387, 2.0321545600891113)}\n",
            "Computing the msd similarity matrix...\n",
            "Done computing similarity matrix.\n",
            "Computing the msd similarity matrix...\n",
            "Done computing similarity matrix.\n",
            "Computing the msd similarity matrix...\n",
            "Done computing similarity matrix.\n",
            "Computing the msd similarity matrix...\n",
            "Done computing similarity matrix.\n",
            "Computing the msd similarity matrix...\n",
            "Done computing similarity matrix.\n",
            "26 : {'test_rmse': array([0.96305063, 0.96167105, 0.96484659, 0.97291773, 0.96018105]), 'fit_time': (0.14026927947998047, 0.1632096767425537, 0.16292071342468262, 0.1808006763458252, 0.17730975151062012), 'test_time': (2.563657522201538, 2.0314507484436035, 2.0661520957946777, 2.0654823780059814, 2.5617213249206543)}\n",
            "Computing the msd similarity matrix...\n",
            "Done computing similarity matrix.\n",
            "Computing the msd similarity matrix...\n",
            "Done computing similarity matrix.\n",
            "Computing the msd similarity matrix...\n",
            "Done computing similarity matrix.\n",
            "Computing the msd similarity matrix...\n",
            "Done computing similarity matrix.\n",
            "Computing the msd similarity matrix...\n",
            "Done computing similarity matrix.\n",
            "27 : {'test_rmse': array([0.96261243, 0.96533929, 0.95566444, 0.97243409, 0.96576007]), 'fit_time': (0.15920805931091309, 0.1763160228729248, 0.15938472747802734, 0.1703202724456787, 0.16252899169921875), 'test_time': (2.0523014068603516, 2.0954461097717285, 2.0691137313842773, 2.5947794914245605, 2.0899853706359863)}\n",
            "Computing the msd similarity matrix...\n",
            "Done computing similarity matrix.\n",
            "Computing the msd similarity matrix...\n",
            "Done computing similarity matrix.\n",
            "Computing the msd similarity matrix...\n",
            "Done computing similarity matrix.\n",
            "Computing the msd similarity matrix...\n",
            "Done computing similarity matrix.\n",
            "Computing the msd similarity matrix...\n",
            "Done computing similarity matrix.\n",
            "28 : {'test_rmse': array([0.957816  , 0.96206965, 0.9683212 , 0.96791757, 0.96384074]), 'fit_time': (0.13782572746276855, 0.18397045135498047, 0.1779160499572754, 0.17974328994750977, 0.17620062828063965), 'test_time': (2.0774271488189697, 2.594400644302368, 2.075347423553467, 2.0805275440216064, 2.100125789642334)}\n",
            "Computing the msd similarity matrix...\n",
            "Done computing similarity matrix.\n",
            "Computing the msd similarity matrix...\n",
            "Done computing similarity matrix.\n",
            "Computing the msd similarity matrix...\n",
            "Done computing similarity matrix.\n",
            "Computing the msd similarity matrix...\n",
            "Done computing similarity matrix.\n",
            "Computing the msd similarity matrix...\n",
            "Done computing similarity matrix.\n",
            "29 : {'test_rmse': array([0.96004325, 0.96205776, 0.97119585, 0.96507467, 0.96666217]), 'fit_time': (0.14894628524780273, 0.1874239444732666, 0.1799321174621582, 0.17975115776062012, 0.1800835132598877), 'test_time': (2.597900867462158, 2.1174161434173584, 2.1059682369232178, 2.088972806930542, 2.592667818069458)}\n"
          ],
          "name": "stdout"
        }
      ]
    },
    {
      "cell_type": "code",
      "metadata": {
        "colab": {
          "base_uri": "https://localhost:8080/"
        },
        "id": "Kg2IfQ6ThNao",
        "outputId": "ef864aa6-265b-44db-cd77-751f00d75c7a"
      },
      "source": [
        "for i in range(35, 45):\n",
        "  temp = KNNWithMeans(k = i, user_based = False)\n",
        "  error = cross_validate(temp, data, measures=['RMSE'], cv=5)\n",
        "  print(\"%s : %s\" % (i, error))"
      ],
      "execution_count": 120,
      "outputs": [
        {
          "output_type": "stream",
          "text": [
            "Computing the msd similarity matrix...\n",
            "Done computing similarity matrix.\n",
            "Computing the msd similarity matrix...\n",
            "Done computing similarity matrix.\n",
            "Computing the msd similarity matrix...\n",
            "Done computing similarity matrix.\n",
            "Computing the msd similarity matrix...\n",
            "Done computing similarity matrix.\n",
            "Computing the msd similarity matrix...\n",
            "Done computing similarity matrix.\n",
            "35 : {'test_rmse': array([0.92892621, 0.91782787, 0.9069188 , 0.91971179, 0.92443738]), 'fit_time': (0.19601821899414062, 0.2458477020263672, 0.24523210525512695, 0.2048933506011963, 0.21949243545532227), 'test_time': (2.3989384174346924, 2.3938705921173096, 2.364163398742676, 2.9021172523498535, 2.382936954498291)}\n",
            "Computing the msd similarity matrix...\n",
            "Done computing similarity matrix.\n",
            "Computing the msd similarity matrix...\n",
            "Done computing similarity matrix.\n",
            "Computing the msd similarity matrix...\n",
            "Done computing similarity matrix.\n",
            "Computing the msd similarity matrix...\n",
            "Done computing similarity matrix.\n",
            "Computing the msd similarity matrix...\n",
            "Done computing similarity matrix.\n",
            "36 : {'test_rmse': array([0.92233756, 0.93011324, 0.90977956, 0.92329952, 0.9127903 ]), 'fit_time': (0.20067834854125977, 0.22143983840942383, 0.22130799293518066, 0.2119905948638916, 0.21386957168579102), 'test_time': (2.404322624206543, 2.4180893898010254, 2.392901659011841, 2.3981473445892334, 2.4060895442962646)}\n",
            "Computing the msd similarity matrix...\n",
            "Done computing similarity matrix.\n",
            "Computing the msd similarity matrix...\n",
            "Done computing similarity matrix.\n",
            "Computing the msd similarity matrix...\n",
            "Done computing similarity matrix.\n",
            "Computing the msd similarity matrix...\n",
            "Done computing similarity matrix.\n",
            "Computing the msd similarity matrix...\n",
            "Done computing similarity matrix.\n",
            "37 : {'test_rmse': array([0.92349515, 0.90970932, 0.9222163 , 0.92112998, 0.91793957]), 'fit_time': (0.1917264461517334, 0.21968841552734375, 0.2083721160888672, 0.21604061126708984, 0.23458433151245117), 'test_time': (2.423450469970703, 2.4154863357543945, 2.4335076808929443, 2.3988494873046875, 2.894139051437378)}\n",
            "Computing the msd similarity matrix...\n",
            "Done computing similarity matrix.\n",
            "Computing the msd similarity matrix...\n",
            "Done computing similarity matrix.\n",
            "Computing the msd similarity matrix...\n",
            "Done computing similarity matrix.\n",
            "Computing the msd similarity matrix...\n",
            "Done computing similarity matrix.\n",
            "Computing the msd similarity matrix...\n",
            "Done computing similarity matrix.\n",
            "38 : {'test_rmse': array([0.91623008, 0.91769941, 0.92217778, 0.9190456 , 0.91533181]), 'fit_time': (0.19649553298950195, 0.2124931812286377, 0.21196794509887695, 0.23832249641418457, 0.1922779083251953), 'test_time': (2.4698400497436523, 2.4197521209716797, 2.3938608169555664, 2.9129786491394043, 2.4209797382354736)}\n",
            "Computing the msd similarity matrix...\n",
            "Done computing similarity matrix.\n",
            "Computing the msd similarity matrix...\n",
            "Done computing similarity matrix.\n",
            "Computing the msd similarity matrix...\n",
            "Done computing similarity matrix.\n",
            "Computing the msd similarity matrix...\n",
            "Done computing similarity matrix.\n",
            "Computing the msd similarity matrix...\n",
            "Done computing similarity matrix.\n",
            "39 : {'test_rmse': array([0.92046582, 0.91668302, 0.91526564, 0.92069249, 0.92626503]), 'fit_time': (0.19101619720458984, 0.2295393943786621, 0.22217059135437012, 0.21079707145690918, 0.20688414573669434), 'test_time': (2.4412503242492676, 2.430405616760254, 2.954706907272339, 2.4812750816345215, 2.4144375324249268)}\n",
            "Computing the msd similarity matrix...\n",
            "Done computing similarity matrix.\n",
            "Computing the msd similarity matrix...\n",
            "Done computing similarity matrix.\n",
            "Computing the msd similarity matrix...\n",
            "Done computing similarity matrix.\n",
            "Computing the msd similarity matrix...\n",
            "Done computing similarity matrix.\n",
            "Computing the msd similarity matrix...\n",
            "Done computing similarity matrix.\n",
            "40 : {'test_rmse': array([0.92606515, 0.9233822 , 0.91581788, 0.92313889, 0.91587624]), 'fit_time': (0.18805336952209473, 0.2542574405670166, 0.22806453704833984, 0.20308470726013184, 0.21207880973815918), 'test_time': (2.4257638454437256, 2.916886329650879, 2.426797389984131, 2.451561450958252, 2.4685683250427246)}\n",
            "Computing the msd similarity matrix...\n",
            "Done computing similarity matrix.\n",
            "Computing the msd similarity matrix...\n",
            "Done computing similarity matrix.\n",
            "Computing the msd similarity matrix...\n",
            "Done computing similarity matrix.\n",
            "Computing the msd similarity matrix...\n",
            "Done computing similarity matrix.\n",
            "Computing the msd similarity matrix...\n",
            "Done computing similarity matrix.\n",
            "41 : {'test_rmse': array([0.91850613, 0.91561264, 0.92281779, 0.91701147, 0.92211021]), 'fit_time': (0.18675661087036133, 0.22029852867126465, 0.20383620262145996, 0.20766425132751465, 0.20825648307800293), 'test_time': (2.9596545696258545, 2.458951711654663, 2.471139669418335, 2.489765167236328, 2.4495837688446045)}\n",
            "Computing the msd similarity matrix...\n",
            "Done computing similarity matrix.\n",
            "Computing the msd similarity matrix...\n",
            "Done computing similarity matrix.\n",
            "Computing the msd similarity matrix...\n",
            "Done computing similarity matrix.\n",
            "Computing the msd similarity matrix...\n",
            "Done computing similarity matrix.\n",
            "Computing the msd similarity matrix...\n",
            "Done computing similarity matrix.\n",
            "42 : {'test_rmse': array([0.92613999, 0.91995445, 0.92328128, 0.91714878, 0.91340729]), 'fit_time': (0.20174098014831543, 0.21625804901123047, 0.21337056159973145, 0.21324610710144043, 0.22643232345581055), 'test_time': (2.516899347305298, 2.503805637359619, 3.0100748538970947, 2.4850363731384277, 2.4528679847717285)}\n",
            "Computing the msd similarity matrix...\n",
            "Done computing similarity matrix.\n",
            "Computing the msd similarity matrix...\n",
            "Done computing similarity matrix.\n",
            "Computing the msd similarity matrix...\n",
            "Done computing similarity matrix.\n",
            "Computing the msd similarity matrix...\n",
            "Done computing similarity matrix.\n",
            "Computing the msd similarity matrix...\n",
            "Done computing similarity matrix.\n",
            "43 : {'test_rmse': array([0.9269551 , 0.91098888, 0.91490553, 0.91615403, 0.92139024]), 'fit_time': (0.19787120819091797, 0.2125999927520752, 0.2293710708618164, 0.22962307929992676, 0.22229695320129395), 'test_time': (2.4441916942596436, 2.9771687984466553, 2.4584786891937256, 2.4485719203948975, 2.50637149810791)}\n",
            "Computing the msd similarity matrix...\n",
            "Done computing similarity matrix.\n",
            "Computing the msd similarity matrix...\n",
            "Done computing similarity matrix.\n",
            "Computing the msd similarity matrix...\n",
            "Done computing similarity matrix.\n",
            "Computing the msd similarity matrix...\n",
            "Done computing similarity matrix.\n",
            "Computing the msd similarity matrix...\n",
            "Done computing similarity matrix.\n",
            "44 : {'test_rmse': array([0.91901137, 0.92340366, 0.91099329, 0.9172244 , 0.92394118]), 'fit_time': (0.17786931991577148, 0.24090313911437988, 0.2293391227722168, 0.22266221046447754, 0.24804449081420898), 'test_time': (3.0118865966796875, 2.492384672164917, 2.4898107051849365, 2.4849741458892822, 2.4779796600341797)}\n"
          ],
          "name": "stdout"
        }
      ]
    }
  ]
}